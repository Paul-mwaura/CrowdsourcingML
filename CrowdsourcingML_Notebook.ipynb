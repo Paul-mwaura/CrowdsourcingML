{
  "nbformat": 4,
  "nbformat_minor": 0,
  "metadata": {
    "colab": {
      "name": "CrowdsourcingML - Draft Notebook.ipynb",
      "provenance": [],
      "collapsed_sections": [
        "W3_iVPQrFF0-"
      ],
      "toc_visible": true,
      "authorship_tag": "ABX9TyOU10KJizyu69HqDsVCXD4n",
      "include_colab_link": true
    },
    "kernelspec": {
      "name": "python3",
      "display_name": "Python 3"
    },
    "language_info": {
      "name": "python"
    }
  },
  "cells": [
    {
      "cell_type": "markdown",
      "metadata": {
        "id": "view-in-github",
        "colab_type": "text"
      },
      "source": [
        "<a href=\"https://colab.research.google.com/github/Paul-mwaura/CrowdsourcingML/blob/main/CrowdsourcingML_Notebook.ipynb\" target=\"_parent\"><img src=\"https://colab.research.google.com/assets/colab-badge.svg\" alt=\"Open In Colab\"/></a>"
      ]
    },
    {
      "cell_type": "markdown",
      "metadata": {
        "id": "5MDIgdczdwuk"
      },
      "source": [
        "# CrowdsourcingML on Amazon Data"
      ]
    },
    {
      "cell_type": "code",
      "metadata": {
        "colab": {
          "base_uri": "https://localhost:8080/"
        },
        "id": "4mtM_XSvOEgC",
        "outputId": "4b526f83-c06c-4883-831c-302bad4ea633"
      },
      "source": [
        "pip install scikit-multilearn"
      ],
      "execution_count": 1,
      "outputs": [
        {
          "output_type": "stream",
          "text": [
            "Collecting scikit-multilearn\n",
            "\u001b[?25l  Downloading https://files.pythonhosted.org/packages/bb/1f/e6ff649c72a1cdf2c7a1d31eb21705110ce1c5d3e7e26b2cc300e1637272/scikit_multilearn-0.2.0-py3-none-any.whl (89kB)\n",
            "\r\u001b[K     |███▊                            | 10kB 15.2MB/s eta 0:00:01\r\u001b[K     |███████▍                        | 20kB 10.7MB/s eta 0:00:01\r\u001b[K     |███████████                     | 30kB 7.7MB/s eta 0:00:01\r\u001b[K     |██████████████▊                 | 40kB 7.4MB/s eta 0:00:01\r\u001b[K     |██████████████████▍             | 51kB 4.3MB/s eta 0:00:01\r\u001b[K     |██████████████████████          | 61kB 4.8MB/s eta 0:00:01\r\u001b[K     |█████████████████████████▊      | 71kB 4.7MB/s eta 0:00:01\r\u001b[K     |█████████████████████████████▍  | 81kB 5.1MB/s eta 0:00:01\r\u001b[K     |████████████████████████████████| 92kB 3.4MB/s \n",
            "\u001b[?25hInstalling collected packages: scikit-multilearn\n",
            "Successfully installed scikit-multilearn-0.2.0\n"
          ],
          "name": "stdout"
        }
      ]
    },
    {
      "cell_type": "markdown",
      "metadata": {
        "id": "-Ta3RXBFd6l7"
      },
      "source": [
        "## Import Necessary Libraries"
      ]
    },
    {
      "cell_type": "code",
      "metadata": {
        "id": "XFwsO5ATMYWq"
      },
      "source": [
        "import numpy as np\n",
        "import matplotlib.pyplot as plt\n",
        "import seaborn as sns\n",
        "import pandas as pd\n",
        "%matplotlib inline\n",
        "\n",
        "from sklearn import model_selection\n",
        "from sklearn.model_selection import train_test_split\n",
        "from sklearn.preprocessing import StandardScaler\n",
        "\n",
        "# Machine Learning Algorithms\n",
        "from skmultilearn.problem_transform import ClassifierChain\n",
        "from sklearn.naive_bayes import GaussianNB\n",
        "from sklearn.cluster import KMeans\n",
        "from sklearn.linear_model import LogisticRegression\n",
        "from sklearn.naive_bayes import BernoulliNB\n",
        "\n",
        "# Metric Libraries\n",
        "from sklearn.metrics import accuracy_score\n",
        "from sklearn import metrics\n",
        "\n",
        " \n",
        "import warnings\n",
        "warnings.filterwarnings(\"ignore\")"
      ],
      "execution_count": 2,
      "outputs": []
    },
    {
      "cell_type": "markdown",
      "metadata": {
        "id": "OdsKO8PUd3jI"
      },
      "source": [
        "## Loading the Dataset"
      ]
    },
    {
      "cell_type": "code",
      "metadata": {
        "colab": {
          "base_uri": "https://localhost:8080/",
          "height": 202
        },
        "id": "bqgKCoe-MjNj",
        "outputId": "74726c9e-c8f6-4db9-83d8-94b6d1d2f90e"
      },
      "source": [
        "df = pd.read_csv(\"amazon.csv\")\n",
        "df.head()"
      ],
      "execution_count": 3,
      "outputs": [
        {
          "output_type": "execute_result",
          "data": {
            "text/html": [
              "<div>\n",
              "<style scoped>\n",
              "    .dataframe tbody tr th:only-of-type {\n",
              "        vertical-align: middle;\n",
              "    }\n",
              "\n",
              "    .dataframe tbody tr th {\n",
              "        vertical-align: top;\n",
              "    }\n",
              "\n",
              "    .dataframe thead th {\n",
              "        text-align: right;\n",
              "    }\n",
              "</style>\n",
              "<table border=\"1\" class=\"dataframe\">\n",
              "  <thead>\n",
              "    <tr style=\"text-align: right;\">\n",
              "      <th></th>\n",
              "      <th>A1LZWU72K42V92</th>\n",
              "      <th>23</th>\n",
              "      <th>0</th>\n",
              "      <th>1</th>\n",
              "      <th>298</th>\n",
              "    </tr>\n",
              "  </thead>\n",
              "  <tbody>\n",
              "    <tr>\n",
              "      <th>0</th>\n",
              "      <td>ASS4LIVDW452F</td>\n",
              "      <td>23</td>\n",
              "      <td>1</td>\n",
              "      <td>1</td>\n",
              "      <td>6</td>\n",
              "    </tr>\n",
              "    <tr>\n",
              "      <th>1</th>\n",
              "      <td>A2QAIIROYI52KO</td>\n",
              "      <td>23</td>\n",
              "      <td>1</td>\n",
              "      <td>1</td>\n",
              "      <td>96</td>\n",
              "    </tr>\n",
              "    <tr>\n",
              "      <th>2</th>\n",
              "      <td>A3PRX6CU0P34NE</td>\n",
              "      <td>23</td>\n",
              "      <td>1</td>\n",
              "      <td>1</td>\n",
              "      <td>175</td>\n",
              "    </tr>\n",
              "    <tr>\n",
              "      <th>3</th>\n",
              "      <td>A9KPCMO1J1LQF</td>\n",
              "      <td>23</td>\n",
              "      <td>1</td>\n",
              "      <td>1</td>\n",
              "      <td>7</td>\n",
              "    </tr>\n",
              "    <tr>\n",
              "      <th>4</th>\n",
              "      <td>A3PM8L29POUPBQ</td>\n",
              "      <td>23</td>\n",
              "      <td>1</td>\n",
              "      <td>1</td>\n",
              "      <td>19</td>\n",
              "    </tr>\n",
              "  </tbody>\n",
              "</table>\n",
              "</div>"
            ],
            "text/plain": [
              "   A1LZWU72K42V92  23  0  1  298\n",
              "0   ASS4LIVDW452F  23  1  1    6\n",
              "1  A2QAIIROYI52KO  23  1  1   96\n",
              "2  A3PRX6CU0P34NE  23  1  1  175\n",
              "3   A9KPCMO1J1LQF  23  1  1    7\n",
              "4  A3PM8L29POUPBQ  23  1  1   19"
            ]
          },
          "metadata": {
            "tags": []
          },
          "execution_count": 3
        }
      ]
    },
    {
      "cell_type": "markdown",
      "metadata": {
        "id": "Vyj1Lb9oMG_S"
      },
      "source": [
        "**Rename the Columns**"
      ]
    },
    {
      "cell_type": "code",
      "metadata": {
        "colab": {
          "base_uri": "https://localhost:8080/",
          "height": 110
        },
        "id": "2fZs8YxMMG0P",
        "outputId": "83f74ad2-b698-4843-f361-6356f676b47b"
      },
      "source": [
        "df.columns = ['worker_id', 'task_id', 'worker_reviews', 'expert_reviews', 'time_taken']\n",
        "df.head(2)"
      ],
      "execution_count": 4,
      "outputs": [
        {
          "output_type": "execute_result",
          "data": {
            "text/html": [
              "<div>\n",
              "<style scoped>\n",
              "    .dataframe tbody tr th:only-of-type {\n",
              "        vertical-align: middle;\n",
              "    }\n",
              "\n",
              "    .dataframe tbody tr th {\n",
              "        vertical-align: top;\n",
              "    }\n",
              "\n",
              "    .dataframe thead th {\n",
              "        text-align: right;\n",
              "    }\n",
              "</style>\n",
              "<table border=\"1\" class=\"dataframe\">\n",
              "  <thead>\n",
              "    <tr style=\"text-align: right;\">\n",
              "      <th></th>\n",
              "      <th>worker_id</th>\n",
              "      <th>task_id</th>\n",
              "      <th>worker_reviews</th>\n",
              "      <th>expert_reviews</th>\n",
              "      <th>time_taken</th>\n",
              "    </tr>\n",
              "  </thead>\n",
              "  <tbody>\n",
              "    <tr>\n",
              "      <th>0</th>\n",
              "      <td>ASS4LIVDW452F</td>\n",
              "      <td>23</td>\n",
              "      <td>1</td>\n",
              "      <td>1</td>\n",
              "      <td>6</td>\n",
              "    </tr>\n",
              "    <tr>\n",
              "      <th>1</th>\n",
              "      <td>A2QAIIROYI52KO</td>\n",
              "      <td>23</td>\n",
              "      <td>1</td>\n",
              "      <td>1</td>\n",
              "      <td>96</td>\n",
              "    </tr>\n",
              "  </tbody>\n",
              "</table>\n",
              "</div>"
            ],
            "text/plain": [
              "        worker_id  task_id  worker_reviews  expert_reviews  time_taken\n",
              "0   ASS4LIVDW452F       23               1               1           6\n",
              "1  A2QAIIROYI52KO       23               1               1          96"
            ]
          },
          "metadata": {
            "tags": []
          },
          "execution_count": 4
        }
      ]
    },
    {
      "cell_type": "markdown",
      "metadata": {
        "id": "EG8gsv2VeH7W"
      },
      "source": [
        "**Check Data Types**"
      ]
    },
    {
      "cell_type": "code",
      "metadata": {
        "colab": {
          "base_uri": "https://localhost:8080/"
        },
        "id": "lzu87I9yM5eb",
        "outputId": "e506f352-91a8-4d66-9ae6-006975e34aed"
      },
      "source": [
        "df.info()"
      ],
      "execution_count": 5,
      "outputs": [
        {
          "output_type": "stream",
          "text": [
            "<class 'pandas.core.frame.DataFrame'>\n",
            "RangeIndex: 9999 entries, 0 to 9998\n",
            "Data columns (total 5 columns):\n",
            " #   Column          Non-Null Count  Dtype \n",
            "---  ------          --------------  ----- \n",
            " 0   worker_id       9999 non-null   object\n",
            " 1   task_id         9999 non-null   int64 \n",
            " 2   worker_reviews  9999 non-null   int64 \n",
            " 3   expert_reviews  9999 non-null   int64 \n",
            " 4   time_taken      9999 non-null   int64 \n",
            "dtypes: int64(4), object(1)\n",
            "memory usage: 390.7+ KB\n"
          ],
          "name": "stdout"
        }
      ]
    },
    {
      "cell_type": "markdown",
      "metadata": {
        "id": "KWOTocm8eNEj"
      },
      "source": [
        "**Get a Description of float and integer variables**"
      ]
    },
    {
      "cell_type": "code",
      "metadata": {
        "colab": {
          "base_uri": "https://localhost:8080/",
          "height": 171
        },
        "id": "CUatv7EdNB4L",
        "outputId": "b922de10-4157-468d-dd7f-e184eff23cce"
      },
      "source": [
        "df.describe().T"
      ],
      "execution_count": 6,
      "outputs": [
        {
          "output_type": "execute_result",
          "data": {
            "text/html": [
              "<div>\n",
              "<style scoped>\n",
              "    .dataframe tbody tr th:only-of-type {\n",
              "        vertical-align: middle;\n",
              "    }\n",
              "\n",
              "    .dataframe tbody tr th {\n",
              "        vertical-align: top;\n",
              "    }\n",
              "\n",
              "    .dataframe thead th {\n",
              "        text-align: right;\n",
              "    }\n",
              "</style>\n",
              "<table border=\"1\" class=\"dataframe\">\n",
              "  <thead>\n",
              "    <tr style=\"text-align: right;\">\n",
              "      <th></th>\n",
              "      <th>count</th>\n",
              "      <th>mean</th>\n",
              "      <th>std</th>\n",
              "      <th>min</th>\n",
              "      <th>25%</th>\n",
              "      <th>50%</th>\n",
              "      <th>75%</th>\n",
              "      <th>max</th>\n",
              "    </tr>\n",
              "  </thead>\n",
              "  <tbody>\n",
              "    <tr>\n",
              "      <th>task_id</th>\n",
              "      <td>9999.0</td>\n",
              "      <td>5231.690869</td>\n",
              "      <td>3038.048031</td>\n",
              "      <td>23.0</td>\n",
              "      <td>2678.0</td>\n",
              "      <td>5145.0</td>\n",
              "      <td>7788.5</td>\n",
              "      <td>10431.0</td>\n",
              "    </tr>\n",
              "    <tr>\n",
              "      <th>worker_reviews</th>\n",
              "      <td>9999.0</td>\n",
              "      <td>0.501150</td>\n",
              "      <td>0.500024</td>\n",
              "      <td>0.0</td>\n",
              "      <td>0.0</td>\n",
              "      <td>1.0</td>\n",
              "      <td>1.0</td>\n",
              "      <td>1.0</td>\n",
              "    </tr>\n",
              "    <tr>\n",
              "      <th>expert_reviews</th>\n",
              "      <td>9999.0</td>\n",
              "      <td>0.509951</td>\n",
              "      <td>0.499926</td>\n",
              "      <td>0.0</td>\n",
              "      <td>0.0</td>\n",
              "      <td>1.0</td>\n",
              "      <td>1.0</td>\n",
              "      <td>1.0</td>\n",
              "    </tr>\n",
              "    <tr>\n",
              "      <th>time_taken</th>\n",
              "      <td>9999.0</td>\n",
              "      <td>49.832983</td>\n",
              "      <td>149.816403</td>\n",
              "      <td>1.0</td>\n",
              "      <td>6.0</td>\n",
              "      <td>9.0</td>\n",
              "      <td>21.0</td>\n",
              "      <td>3265.0</td>\n",
              "    </tr>\n",
              "  </tbody>\n",
              "</table>\n",
              "</div>"
            ],
            "text/plain": [
              "                 count         mean          std  ...     50%     75%      max\n",
              "task_id         9999.0  5231.690869  3038.048031  ...  5145.0  7788.5  10431.0\n",
              "worker_reviews  9999.0     0.501150     0.500024  ...     1.0     1.0      1.0\n",
              "expert_reviews  9999.0     0.509951     0.499926  ...     1.0     1.0      1.0\n",
              "time_taken      9999.0    49.832983   149.816403  ...     9.0    21.0   3265.0\n",
              "\n",
              "[4 rows x 8 columns]"
            ]
          },
          "metadata": {
            "tags": []
          },
          "execution_count": 6
        }
      ]
    },
    {
      "cell_type": "markdown",
      "metadata": {
        "id": "c2gK4517eUj7"
      },
      "source": [
        "**Check the size of the dataset**"
      ]
    },
    {
      "cell_type": "code",
      "metadata": {
        "colab": {
          "base_uri": "https://localhost:8080/"
        },
        "id": "wq_2lHCPNO68",
        "outputId": "883201aa-9528-4bea-b498-0e6abe56cf93"
      },
      "source": [
        "df.shape"
      ],
      "execution_count": 7,
      "outputs": [
        {
          "output_type": "execute_result",
          "data": {
            "text/plain": [
              "(9999, 5)"
            ]
          },
          "metadata": {
            "tags": []
          },
          "execution_count": 7
        }
      ]
    },
    {
      "cell_type": "markdown",
      "metadata": {
        "id": "NMP6LAlneacF"
      },
      "source": [
        "**Print dataset column names**"
      ]
    },
    {
      "cell_type": "code",
      "metadata": {
        "colab": {
          "base_uri": "https://localhost:8080/"
        },
        "id": "L2hFGNCdNS9h",
        "outputId": "9aea1a4c-4655-447f-cb60-401381832392"
      },
      "source": [
        "columns = df.columns\n",
        "columns"
      ],
      "execution_count": 8,
      "outputs": [
        {
          "output_type": "execute_result",
          "data": {
            "text/plain": [
              "Index(['worker_id', 'task_id', 'worker_reviews', 'expert_reviews',\n",
              "       'time_taken'],\n",
              "      dtype='object')"
            ]
          },
          "metadata": {
            "tags": []
          },
          "execution_count": 8
        }
      ]
    },
    {
      "cell_type": "markdown",
      "metadata": {
        "id": "zESzW7Z3ee24"
      },
      "source": [
        "**Get the count of unique values in the columns**"
      ]
    },
    {
      "cell_type": "code",
      "metadata": {
        "colab": {
          "base_uri": "https://localhost:8080/"
        },
        "id": "jQEkE9AHOuAk",
        "outputId": "a1311102-9de5-4297-a084-e5173954339c"
      },
      "source": [
        "for col in columns:\n",
        "  print(f'Length of Unique values in {col} is: {len(df[col].unique())}')"
      ],
      "execution_count": 9,
      "outputs": [
        {
          "output_type": "stream",
          "text": [
            "Length of Unique values in worker_id is: 143\n",
            "Length of Unique values in task_id is: 500\n",
            "Length of Unique values in worker_reviews is: 2\n",
            "Length of Unique values in expert_reviews is: 2\n",
            "Length of Unique values in time_taken is: 527\n"
          ],
          "name": "stdout"
        }
      ]
    },
    {
      "cell_type": "markdown",
      "metadata": {
        "id": "FaxLv_cSdDJY"
      },
      "source": [
        "## Data Cleaning"
      ]
    },
    {
      "cell_type": "markdown",
      "metadata": {
        "id": "dGeDlHsbemzo"
      },
      "source": [
        "**Check for null values**"
      ]
    },
    {
      "cell_type": "code",
      "metadata": {
        "colab": {
          "base_uri": "https://localhost:8080/"
        },
        "id": "F5_Z1n8cPDWW",
        "outputId": "4028c0c2-ae6a-4e9b-83df-60a9297b7946"
      },
      "source": [
        "df.isna().sum()"
      ],
      "execution_count": 10,
      "outputs": [
        {
          "output_type": "execute_result",
          "data": {
            "text/plain": [
              "worker_id         0\n",
              "task_id           0\n",
              "worker_reviews    0\n",
              "expert_reviews    0\n",
              "time_taken        0\n",
              "dtype: int64"
            ]
          },
          "metadata": {
            "tags": []
          },
          "execution_count": 10
        }
      ]
    },
    {
      "cell_type": "markdown",
      "metadata": {
        "id": "gvwYGB-pep6_"
      },
      "source": [
        "**Check for Duplicated Values**"
      ]
    },
    {
      "cell_type": "code",
      "metadata": {
        "colab": {
          "base_uri": "https://localhost:8080/"
        },
        "id": "d1KUhe-sc-jd",
        "outputId": "c7a6e63c-fa0a-492b-b472-2ddf33bdf02d"
      },
      "source": [
        "df.duplicated().sum()"
      ],
      "execution_count": 11,
      "outputs": [
        {
          "output_type": "execute_result",
          "data": {
            "text/plain": [
              "0"
            ]
          },
          "metadata": {
            "tags": []
          },
          "execution_count": 11
        }
      ]
    },
    {
      "cell_type": "markdown",
      "metadata": {
        "id": "h8m5b8JYet3a"
      },
      "source": [
        "**Get dummy values for the worker_id column**"
      ]
    },
    {
      "cell_type": "code",
      "metadata": {
        "colab": {
          "base_uri": "https://localhost:8080/",
          "height": 110
        },
        "id": "9xBJdcVBOVk1",
        "outputId": "53935859-7369-45e9-d403-4e51439467aa"
      },
      "source": [
        "df['worker_id'] = pd.get_dummies(df['worker_id'])\n",
        "df.head(2)"
      ],
      "execution_count": 12,
      "outputs": [
        {
          "output_type": "execute_result",
          "data": {
            "text/html": [
              "<div>\n",
              "<style scoped>\n",
              "    .dataframe tbody tr th:only-of-type {\n",
              "        vertical-align: middle;\n",
              "    }\n",
              "\n",
              "    .dataframe tbody tr th {\n",
              "        vertical-align: top;\n",
              "    }\n",
              "\n",
              "    .dataframe thead th {\n",
              "        text-align: right;\n",
              "    }\n",
              "</style>\n",
              "<table border=\"1\" class=\"dataframe\">\n",
              "  <thead>\n",
              "    <tr style=\"text-align: right;\">\n",
              "      <th></th>\n",
              "      <th>worker_id</th>\n",
              "      <th>task_id</th>\n",
              "      <th>worker_reviews</th>\n",
              "      <th>expert_reviews</th>\n",
              "      <th>time_taken</th>\n",
              "    </tr>\n",
              "  </thead>\n",
              "  <tbody>\n",
              "    <tr>\n",
              "      <th>0</th>\n",
              "      <td>0</td>\n",
              "      <td>23</td>\n",
              "      <td>1</td>\n",
              "      <td>1</td>\n",
              "      <td>6</td>\n",
              "    </tr>\n",
              "    <tr>\n",
              "      <th>1</th>\n",
              "      <td>0</td>\n",
              "      <td>23</td>\n",
              "      <td>1</td>\n",
              "      <td>1</td>\n",
              "      <td>96</td>\n",
              "    </tr>\n",
              "  </tbody>\n",
              "</table>\n",
              "</div>"
            ],
            "text/plain": [
              "   worker_id  task_id  worker_reviews  expert_reviews  time_taken\n",
              "0          0       23               1               1           6\n",
              "1          0       23               1               1          96"
            ]
          },
          "metadata": {
            "tags": []
          },
          "execution_count": 12
        }
      ]
    },
    {
      "cell_type": "markdown",
      "metadata": {
        "id": "3wHT1FzMdNAv"
      },
      "source": [
        "## Exploratory Data Analysis"
      ]
    },
    {
      "cell_type": "markdown",
      "metadata": {
        "id": "Rsuxb7hllEqT"
      },
      "source": [
        "### Scatter Plots"
      ]
    },
    {
      "cell_type": "markdown",
      "metadata": {
        "id": "NXJjLF59lIp3"
      },
      "source": [
        "#### Worker Reviews"
      ]
    },
    {
      "cell_type": "code",
      "metadata": {
        "colab": {
          "base_uri": "https://localhost:8080/",
          "height": 351
        },
        "id": "AEu_iAewdRWb",
        "outputId": "14144e85-aef0-4bb7-cf73-249101c9cfa5"
      },
      "source": [
        "sns.lmplot(data=df, x=\"time_taken\", y=\"task_id\", col=\"worker_reviews\", hue=\"worker_reviews\")"
      ],
      "execution_count": 13,
      "outputs": [
        {
          "output_type": "execute_result",
          "data": {
            "text/plain": [
              "<seaborn.axisgrid.FacetGrid at 0x7f7b2d44a910>"
            ]
          },
          "metadata": {
            "tags": []
          },
          "execution_count": 13
        },
        {
          "output_type": "display_data",
          "data": {
            "image/png": "[encoded data removed]",
            "text/plain": [
              "<Figure size 720x360 with 2 Axes>"
            ]
          },
          "metadata": {
            "tags": [],
            "needs_background": "light"
          }
        }
      ]
    },
    {
      "cell_type": "markdown",
      "metadata": {
        "id": "huKFtwh4lOCw"
      },
      "source": [
        "#### Expert Reviews"
      ]
    },
    {
      "cell_type": "code",
      "metadata": {
        "colab": {
          "base_uri": "https://localhost:8080/",
          "height": 351
        },
        "id": "YkaAbEigkiB0",
        "outputId": "3e2fa6c2-d1b5-49df-ce9c-0fff759dd160"
      },
      "source": [
        "sns.lmplot(data=df, x=\"time_taken\", y=\"task_id\", col=\"expert_reviews\", hue=\"expert_reviews\")"
      ],
      "execution_count": 14,
      "outputs": [
        {
          "output_type": "execute_result",
          "data": {
            "text/plain": [
              "<seaborn.axisgrid.FacetGrid at 0x7f7b18c17790>"
            ]
          },
          "metadata": {
            "tags": []
          },
          "execution_count": 14
        },
        {
          "output_type": "display_data",
          "data": {
            "image/png": "[encoded data removed]",
            "text/plain": [
              "<Figure size 720x360 with 2 Axes>"
            ]
          },
          "metadata": {
            "tags": [],
            "needs_background": "light"
          }
        }
      ]
    },
    {
      "cell_type": "markdown",
      "metadata": {
        "id": "QPV4K8CaE-1y"
      },
      "source": [
        "###  Joint Plots"
      ]
    },
    {
      "cell_type": "markdown",
      "metadata": {
        "id": "ilnPJdGAFCYM"
      },
      "source": [
        "#### Worker Reviews"
      ]
    },
    {
      "cell_type": "code",
      "metadata": {
        "colab": {
          "base_uri": "https://localhost:8080/",
          "height": 459
        },
        "id": "3z-0O5z4EZAX",
        "outputId": "d217b977-f07e-4a73-d74e-29a69422df7b"
      },
      "source": [
        "sns.jointplot(data=df, x=\"time_taken\", y=\"task_id\", hue=\"worker_reviews\")\n",
        "plt.title('Time Taken and Task ID Joint Plot for Worker Reviews')"
      ],
      "execution_count": 15,
      "outputs": [
        {
          "output_type": "execute_result",
          "data": {
            "text/plain": [
              "Text(0.5, 1.0, 'Time Taken and Task ID Joint Plot for Worker Reviews')"
            ]
          },
          "metadata": {
            "tags": []
          },
          "execution_count": 15
        },
        {
          "output_type": "display_data",
          "data": {
            "image/png": "[encoded data removed]",
            "text/plain": [
              "<Figure size 432x432 with 3 Axes>"
            ]
          },
          "metadata": {
            "tags": [],
            "needs_background": "light"
          }
        }
      ]
    },
    {
      "cell_type": "markdown",
      "metadata": {
        "id": "CZUAtFEeFDux"
      },
      "source": [
        "#### Expert Reviews"
      ]
    },
    {
      "cell_type": "code",
      "metadata": {
        "colab": {
          "base_uri": "https://localhost:8080/",
          "height": 459
        },
        "id": "3Cvh4MbmDXKG",
        "outputId": "daabb8b0-4a61-40a3-c155-19287fc1af07"
      },
      "source": [
        "sns.jointplot(data=df, x=\"time_taken\", y=\"task_id\", hue=\"expert_reviews\")\n",
        "plt.title('Time Taken and Task ID Joint Plot for Expert Reviews')"
      ],
      "execution_count": 16,
      "outputs": [
        {
          "output_type": "execute_result",
          "data": {
            "text/plain": [
              "Text(0.5, 1.0, 'Time Taken and Task ID Joint Plot for Expert Reviews')"
            ]
          },
          "metadata": {
            "tags": []
          },
          "execution_count": 16
        },
        {
          "output_type": "display_data",
          "data": {
            "image/png": "[encoded data removed]",
            "text/plain": [
              "<Figure size 432x432 with 3 Axes>"
            ]
          },
          "metadata": {
            "tags": [],
            "needs_background": "light"
          }
        }
      ]
    },
    {
      "cell_type": "markdown",
      "metadata": {
        "id": "90l1uNVTL8x2"
      },
      "source": [
        "## Implementing the solution"
      ]
    },
    {
      "cell_type": "markdown",
      "metadata": {
        "id": "qU_sT7Xne4pU"
      },
      "source": [
        "**Split data into x(features) and y(labels)**"
      ]
    },
    {
      "cell_type": "code",
      "metadata": {
        "colab": {
          "base_uri": "https://localhost:8080/",
          "height": 110
        },
        "id": "UXy4Pk5sMBDa",
        "outputId": "87e093e5-8360-41b2-af1f-e03ac185db3d"
      },
      "source": [
        "x = df[['task_id', 'time_taken']]\n",
        "y = df[['worker_reviews', 'expert_reviews']]\n",
        "y.head(2)"
      ],
      "execution_count": 17,
      "outputs": [
        {
          "output_type": "execute_result",
          "data": {
            "text/html": [
              "<div>\n",
              "<style scoped>\n",
              "    .dataframe tbody tr th:only-of-type {\n",
              "        vertical-align: middle;\n",
              "    }\n",
              "\n",
              "    .dataframe tbody tr th {\n",
              "        vertical-align: top;\n",
              "    }\n",
              "\n",
              "    .dataframe thead th {\n",
              "        text-align: right;\n",
              "    }\n",
              "</style>\n",
              "<table border=\"1\" class=\"dataframe\">\n",
              "  <thead>\n",
              "    <tr style=\"text-align: right;\">\n",
              "      <th></th>\n",
              "      <th>worker_reviews</th>\n",
              "      <th>expert_reviews</th>\n",
              "    </tr>\n",
              "  </thead>\n",
              "  <tbody>\n",
              "    <tr>\n",
              "      <th>0</th>\n",
              "      <td>1</td>\n",
              "      <td>1</td>\n",
              "    </tr>\n",
              "    <tr>\n",
              "      <th>1</th>\n",
              "      <td>1</td>\n",
              "      <td>1</td>\n",
              "    </tr>\n",
              "  </tbody>\n",
              "</table>\n",
              "</div>"
            ],
            "text/plain": [
              "   worker_reviews  expert_reviews\n",
              "0               1               1\n",
              "1               1               1"
            ]
          },
          "metadata": {
            "tags": []
          },
          "execution_count": 17
        }
      ]
    },
    {
      "cell_type": "markdown",
      "metadata": {
        "id": "QDSLR7cmfCHr"
      },
      "source": [
        "**Split data into train(80%)and test(20%)**"
      ]
    },
    {
      "cell_type": "code",
      "metadata": {
        "id": "7egTlT6jNrld"
      },
      "source": [
        "X_train, X_test, y_train, y_test = train_test_split(x, y, test_size=0.20, random_state=12)"
      ],
      "execution_count": 18,
      "outputs": []
    },
    {
      "cell_type": "markdown",
      "metadata": {
        "id": "MhcUY3YaWiIP"
      },
      "source": [
        "### Classifier Chains\n"
      ]
    },
    {
      "cell_type": "markdown",
      "metadata": {
        "id": "58oZwffvF57I"
      },
      "source": [
        "<a href='https://scikit-learn.org/stable/modules/generated/sklearn.multioutput.ClassifierChain.html#sklearn.multioutput.ClassifierChain'>Classifier chains</a> is a machine learning method for problem transformation in multi-label classification. It combines the computational efficiency of the Binary Relevance method while still being able to take the label dependencies into account for classification.\n",
        ">>\n",
        "Each model makes a prediction in the order specified by the chain using all of the available features provided to the model plus the predictions of models that are earlier in the chain.\n",
        ">>\n",
        "When predicting, the true labels will not be available. Instead the predictions of each model are passed on to the subsequent models in the chain to be used as features.\n",
        ">>\n",
        "Clearly the order of the chain is important. The first model in the chain has no information about the other labels while the last model in the chain has features indicating the presence of all of the other labels. In general one does not know the optimal ordering of the models in the chain so typically many randomly ordered chains are fit and their predictions are averaged together."
      ]
    },
    {
      "cell_type": "markdown",
      "metadata": {
        "id": "MqyrJLxwZyMc"
      },
      "source": [
        "#### GaussianNB Classifier"
      ]
    },
    {
      "cell_type": "code",
      "metadata": {
        "colab": {
          "base_uri": "https://localhost:8080/"
        },
        "id": "3Qss51aWL8kg",
        "outputId": "3515a85c-a10a-41f8-f7f7-f04ace125657"
      },
      "source": [
        "# using classifier chains\n",
        "\n",
        "# initialize classifier chains multi-label classifier\n",
        "# with a gaussian naive bayes base classifier\n",
        "gaussian = GaussianNB()\n",
        "gaussian_clf = ClassifierChain(gaussian)\n",
        "\n",
        "sc = StandardScaler()\n",
        "\n",
        "X_train = sc.fit_transform(X_train)\n",
        "X_test = sc.transform(X_test)\n",
        "# train\n",
        "gaussian_clf.fit(X_train, y_train)\n",
        "\n",
        "# predict\n",
        "gaussian_preds = gaussian_clf.predict(X_test)\n",
        "\n",
        "print(f'Gaussian accuracy score: {accuracy_score(y_test,gaussian_preds)*100}%')"
      ],
      "execution_count": 19,
      "outputs": [
        {
          "output_type": "stream",
          "text": [
            "Gaussian accuracy score: 88.75%\n"
          ],
          "name": "stdout"
        }
      ]
    },
    {
      "cell_type": "code",
      "metadata": {
        "colab": {
          "base_uri": "https://localhost:8080/",
          "height": 202
        },
        "id": "JSoIU2R9N3X0",
        "outputId": "133ebcfa-d17b-42df-adc5-222c6fce89cb"
      },
      "source": [
        "gaussian_preds = pd.DataFrame.sparse.from_spmatrix(gaussian_preds)\n",
        "gaussian_preds.columns=['worker', 'expert']\n",
        "\n",
        "gaussian_preds.head()"
      ],
      "execution_count": 20,
      "outputs": [
        {
          "output_type": "execute_result",
          "data": {
            "text/html": [
              "<div>\n",
              "<style scoped>\n",
              "    .dataframe tbody tr th:only-of-type {\n",
              "        vertical-align: middle;\n",
              "    }\n",
              "\n",
              "    .dataframe tbody tr th {\n",
              "        vertical-align: top;\n",
              "    }\n",
              "\n",
              "    .dataframe thead th {\n",
              "        text-align: right;\n",
              "    }\n",
              "</style>\n",
              "<table border=\"1\" class=\"dataframe\">\n",
              "  <thead>\n",
              "    <tr style=\"text-align: right;\">\n",
              "      <th></th>\n",
              "      <th>worker</th>\n",
              "      <th>expert</th>\n",
              "    </tr>\n",
              "  </thead>\n",
              "  <tbody>\n",
              "    <tr>\n",
              "      <th>0</th>\n",
              "      <td>1.0</td>\n",
              "      <td>1.0</td>\n",
              "    </tr>\n",
              "    <tr>\n",
              "      <th>1</th>\n",
              "      <td>0.0</td>\n",
              "      <td>0.0</td>\n",
              "    </tr>\n",
              "    <tr>\n",
              "      <th>2</th>\n",
              "      <td>1.0</td>\n",
              "      <td>1.0</td>\n",
              "    </tr>\n",
              "    <tr>\n",
              "      <th>3</th>\n",
              "      <td>0.0</td>\n",
              "      <td>0.0</td>\n",
              "    </tr>\n",
              "    <tr>\n",
              "      <th>4</th>\n",
              "      <td>1.0</td>\n",
              "      <td>1.0</td>\n",
              "    </tr>\n",
              "  </tbody>\n",
              "</table>\n",
              "</div>"
            ],
            "text/plain": [
              "   worker  expert\n",
              "0     1.0     1.0\n",
              "1     0.0     0.0\n",
              "2     1.0     1.0\n",
              "3     0.0     0.0\n",
              "4     1.0     1.0"
            ]
          },
          "metadata": {
            "tags": []
          },
          "execution_count": 20
        }
      ]
    },
    {
      "cell_type": "code",
      "metadata": {
        "colab": {
          "base_uri": "https://localhost:8080/"
        },
        "id": "QbQ9ePu5gB8Q",
        "outputId": "7a78a1e7-4cb4-41a0-b1cf-04446e03ad88"
      },
      "source": [
        "gaussian_pred_w = gaussian_preds['worker']\n",
        "y_test_gw = y_test['worker_reviews']\n",
        "gaussian_pred_e = gaussian_preds['expert']\n",
        "y_test_ge = y_test['expert_reviews']\n",
        "\n",
        "print(f\"Worker Precision:, {metrics.precision_score(y_test_gw, gaussian_pred_w)*100}\")\n",
        "print(f\"Worker Recall:, {metrics.recall_score(y_test_gw, gaussian_pred_w)*100}\\n\")\n",
        "print(f\"Expert Precision:, {metrics.precision_score(y_test_ge, gaussian_pred_e)*100}\")\n",
        "print(f\"Expert Recall:, {metrics.recall_score(y_test_ge, gaussian_pred_e)*100}\")"
      ],
      "execution_count": 21,
      "outputs": [
        {
          "output_type": "stream",
          "text": [
            "Worker Precision:, 88.31168831168831\n",
            "Worker Recall:, 89.20282542885974\n",
            "\n",
            "Expert Precision:, 100.0\n",
            "Expert Recall:, 99.50347567030785\n"
          ],
          "name": "stdout"
        }
      ]
    },
    {
      "cell_type": "markdown",
      "metadata": {
        "id": "Eip1W1hliZ6c"
      },
      "source": [
        "**Confusion Matrix for Workers**"
      ]
    },
    {
      "cell_type": "code",
      "metadata": {
        "colab": {
          "base_uri": "https://localhost:8080/",
          "height": 421
        },
        "id": "bAmDC07QhGJB",
        "outputId": "8ab6acd3-1896-4ed4-f04d-de8c2d12fa9f"
      },
      "source": [
        "cm = pd.crosstab(y_test_gw, gaussian_pred_w, rownames=['Actual'], colnames=['Predicted'])\n",
        "print(cm)\n",
        "fig, (ax1) = plt.subplots(ncols=1, figsize=(5,5))\n",
        "sns.heatmap(cm, \n",
        "            xticklabels=['negative', 'positive'],\n",
        "            yticklabels=['negative', 'positive'],\n",
        "            annot=True,ax=ax1,\n",
        "            linewidths=.2,linecolor=\"Darkblue\", cmap=\"Blues\")\n",
        "plt.title('Confusion Matrix for Workers.', fontsize=14)\n",
        "plt.show()\n",
        "# 1= default\n",
        "# 0 = No default"
      ],
      "execution_count": 22,
      "outputs": [
        {
          "output_type": "stream",
          "text": [
            "Predicted    0  1.0\n",
            "Actual             \n",
            "0           79   77\n",
            "1          111  109\n"
          ],
          "name": "stdout"
        },
        {
          "output_type": "display_data",
          "data": {
            "image/png": "[encoded data removed]",
            "text/plain": [
              "<Figure size 360x360 with 2 Axes>"
            ]
          },
          "metadata": {
            "tags": [],
            "needs_background": "light"
          }
        }
      ]
    },
    {
      "cell_type": "markdown",
      "metadata": {
        "id": "F8qzfXfGiVxA"
      },
      "source": [
        "**Confusion Matrix for Experts**"
      ]
    },
    {
      "cell_type": "code",
      "metadata": {
        "colab": {
          "base_uri": "https://localhost:8080/",
          "height": 421
        },
        "id": "x3LHZOJHhoJa",
        "outputId": "20a148fe-0a00-4d07-b49e-545b6a4667ad"
      },
      "source": [
        "cm = pd.crosstab(y_test_ge, gaussian_pred_e, rownames=['Actual'], colnames=['Predicted'])\n",
        "print(cm)\n",
        "fig, (ax1) = plt.subplots(ncols=1, figsize=(5,5))\n",
        "sns.heatmap(cm, \n",
        "            xticklabels=['negative', 'positive'],\n",
        "            yticklabels=['negative', 'positive'],\n",
        "            annot=True,ax=ax1,\n",
        "            linewidths=.2,linecolor=\"Darkblue\", cmap=\"Blues\")\n",
        "plt.title('Confusion Matrix for Experts.', fontsize=14)\n",
        "plt.show()\n",
        "# 1= default\n",
        "# 0 = No default"
      ],
      "execution_count": 23,
      "outputs": [
        {
          "output_type": "stream",
          "text": [
            "Predicted    0  1.0\n",
            "Actual             \n",
            "0           78   73\n",
            "1          112  113\n"
          ],
          "name": "stdout"
        },
        {
          "output_type": "display_data",
          "data": {
            "image/png": "[encoded data removed]",
            "text/plain": [
              "<Figure size 360x360 with 2 Axes>"
            ]
          },
          "metadata": {
            "tags": [],
            "needs_background": "light"
          }
        }
      ]
    },
    {
      "cell_type": "markdown",
      "metadata": {
        "id": "DvVuryG3Z3tK"
      },
      "source": [
        "#### Logistic Regression"
      ]
    },
    {
      "cell_type": "code",
      "metadata": {
        "colab": {
          "base_uri": "https://localhost:8080/"
        },
        "id": "M0XipFcdQxuy",
        "outputId": "218d7ac1-0d8e-4be6-d440-c5b55c65eb88"
      },
      "source": [
        "#Logistic Regression\n",
        "\n",
        "log_reg = LogisticRegression()\n",
        "lr_clf = ClassifierChain(log_reg)\n",
        "\n",
        "X_train = sc.fit_transform(X_train)\n",
        "X_test = sc.transform(X_test)\n",
        "\n",
        "# train\n",
        "lr_clf.fit(X_train, y_train)\n",
        "\n",
        "# predict\n",
        "log_reg_preds = lr_clf.predict(X_test)\n",
        "\n",
        "from sklearn import metrics\n",
        "\n",
        "print(f'Accuracy: {accuracy_score(y_test,log_reg_preds)*100}%')"
      ],
      "execution_count": 24,
      "outputs": [
        {
          "output_type": "stream",
          "text": [
            "Accuracy: 88.94999999999999%\n"
          ],
          "name": "stdout"
        }
      ]
    },
    {
      "cell_type": "code",
      "metadata": {
        "colab": {
          "base_uri": "https://localhost:8080/",
          "height": 110
        },
        "id": "atiBnj2VaLaF",
        "outputId": "11569021-2a7e-4e8f-e7aa-a2edffd4139f"
      },
      "source": [
        "log_reg_preds = pd.DataFrame.sparse.from_spmatrix(log_reg_preds)\n",
        "log_reg_preds.columns=['worker_reviews', 'expert_reviews']\n",
        "log_reg_preds.head(2)"
      ],
      "execution_count": 25,
      "outputs": [
        {
          "output_type": "execute_result",
          "data": {
            "text/html": [
              "<div>\n",
              "<style scoped>\n",
              "    .dataframe tbody tr th:only-of-type {\n",
              "        vertical-align: middle;\n",
              "    }\n",
              "\n",
              "    .dataframe tbody tr th {\n",
              "        vertical-align: top;\n",
              "    }\n",
              "\n",
              "    .dataframe thead th {\n",
              "        text-align: right;\n",
              "    }\n",
              "</style>\n",
              "<table border=\"1\" class=\"dataframe\">\n",
              "  <thead>\n",
              "    <tr style=\"text-align: right;\">\n",
              "      <th></th>\n",
              "      <th>worker_reviews</th>\n",
              "      <th>expert_reviews</th>\n",
              "    </tr>\n",
              "  </thead>\n",
              "  <tbody>\n",
              "    <tr>\n",
              "      <th>0</th>\n",
              "      <td>1.0</td>\n",
              "      <td>1.0</td>\n",
              "    </tr>\n",
              "    <tr>\n",
              "      <th>1</th>\n",
              "      <td>0.0</td>\n",
              "      <td>0.0</td>\n",
              "    </tr>\n",
              "  </tbody>\n",
              "</table>\n",
              "</div>"
            ],
            "text/plain": [
              "   worker_reviews  expert_reviews\n",
              "0             1.0             1.0\n",
              "1             0.0             0.0"
            ]
          },
          "metadata": {
            "tags": []
          },
          "execution_count": 25
        }
      ]
    },
    {
      "cell_type": "code",
      "metadata": {
        "colab": {
          "base_uri": "https://localhost:8080/"
        },
        "id": "-_mJV1TKs-sd",
        "outputId": "603e22a7-23ac-4204-d4f8-8c0584d6d8c9"
      },
      "source": [
        "log_reg_pred_w = log_reg_preds['worker_reviews']\n",
        "y_test_lw = y_test['worker_reviews']\n",
        "log_reg_pred_e = log_reg_preds['expert_reviews']\n",
        "y_test_le = y_test['expert_reviews']\n",
        "\n",
        "print(f\"Worker Precision:, {metrics.precision_score(y_test_lw, log_reg_pred_w)*100}\")\n",
        "print(f\"Worker Recall:, {metrics.recall_score(y_test_lw, log_reg_pred_w)*100}\\n\")\n",
        "print(f\"Expert Precision:, {metrics.precision_score(y_test_le, log_reg_pred_e)*100}\")\n",
        "print(f\"Expert Recall:, {metrics.recall_score(y_test_le, log_reg_pred_e)*100}\")"
      ],
      "execution_count": 26,
      "outputs": [
        {
          "output_type": "stream",
          "text": [
            "Worker Precision:, 88.27037773359841\n",
            "Worker Recall:, 89.60645812310797\n",
            "\n",
            "Expert Precision:, 100.0\n",
            "Expert Recall:, 100.0\n"
          ],
          "name": "stdout"
        }
      ]
    },
    {
      "cell_type": "markdown",
      "metadata": {
        "id": "qkzzQv3IigBK"
      },
      "source": [
        "**Confusion Matrix for Workers**"
      ]
    },
    {
      "cell_type": "code",
      "metadata": {
        "colab": {
          "base_uri": "https://localhost:8080/",
          "height": 421
        },
        "id": "RhJ0kKyhfS6q",
        "outputId": "85a4b627-1d2e-4083-b4dd-51e10eedbe40"
      },
      "source": [
        "cm = pd.crosstab(y_test_lw, log_reg_pred_w, rownames=['Actual'], colnames=['Predicted'])\n",
        "print(cm)\n",
        "fig, (ax1) = plt.subplots(ncols=1, figsize=(5,5))\n",
        "sns.heatmap(cm, \n",
        "            xticklabels=['negative', 'positive'],\n",
        "            yticklabels=['negative', 'positive'],\n",
        "            annot=True,ax=ax1,\n",
        "            linewidths=.2,linecolor=\"Darkblue\", cmap=\"Blues\")\n",
        "plt.title('Confusion Matrix for Workers.', fontsize=14)\n",
        "plt.show()\n",
        "# 1= default\n",
        "# 0 = No default"
      ],
      "execution_count": 27,
      "outputs": [
        {
          "output_type": "stream",
          "text": [
            "Predicted    0  1.0\n",
            "Actual             \n",
            "0           79   77\n",
            "1          111  109\n"
          ],
          "name": "stdout"
        },
        {
          "output_type": "display_data",
          "data": {
            "image/png": "[encoded data removed]",
            "text/plain": [
              "<Figure size 360x360 with 2 Axes>"
            ]
          },
          "metadata": {
            "tags": [],
            "needs_background": "light"
          }
        }
      ]
    },
    {
      "cell_type": "markdown",
      "metadata": {
        "id": "CVrIEBsIiksY"
      },
      "source": [
        "**Confusion Matrix for Experts**"
      ]
    },
    {
      "cell_type": "code",
      "metadata": {
        "colab": {
          "base_uri": "https://localhost:8080/",
          "height": 421
        },
        "id": "aNd8cwTohyDK",
        "outputId": "01825309-79f5-4c4f-f1af-731d2ed0b7a3"
      },
      "source": [
        "cm = pd.crosstab(y_test_le, log_reg_pred_e, rownames=['Actual'], colnames=['Predicted'])\n",
        "print(cm)\n",
        "fig, (ax1) = plt.subplots(ncols=1, figsize=(5,5))\n",
        "sns.heatmap(cm, \n",
        "            xticklabels=['negative', 'positive'],\n",
        "            yticklabels=['negative', 'positive'],\n",
        "            annot=True,ax=ax1,\n",
        "            linewidths=.2,linecolor=\"Darkblue\", cmap=\"Blues\")\n",
        "plt.title('Confusion Matrix for Experts.', fontsize=14)\n",
        "plt.show()\n",
        "# 1= default\n",
        "# 0 = No default"
      ],
      "execution_count": 28,
      "outputs": [
        {
          "output_type": "stream",
          "text": [
            "Predicted    0  1.0\n",
            "Actual             \n",
            "0           78   73\n",
            "1          112  113\n"
          ],
          "name": "stdout"
        },
        {
          "output_type": "display_data",
          "data": {
            "image/png": "[encoded data removed]",
            "text/plain": [
              "<Figure size 360x360 with 2 Axes>"
            ]
          },
          "metadata": {
            "tags": [],
            "needs_background": "light"
          }
        }
      ]
    },
    {
      "cell_type": "markdown",
      "metadata": {
        "id": "SiOipcSqrrRP"
      },
      "source": [
        "#### KMeans Classifier"
      ]
    },
    {
      "cell_type": "code",
      "metadata": {
        "colab": {
          "base_uri": "https://localhost:8080/"
        },
        "id": "_Ry61mX2rym4",
        "outputId": "66d4cf83-6e60-48b4-b640-51aac905fdb7"
      },
      "source": [
        "#KMeans\n",
        "\n",
        "k_means = KMeans(n_clusters=2)\n",
        "kmeans_clf = ClassifierChain(k_means)\n",
        "\n",
        "# train\n",
        "kmeans_clf.fit(X_train, y_train)\n",
        "\n",
        "# predict\n",
        "kmeans_preds = kmeans_clf.predict(X_test)\n",
        "\n",
        "print(f'KMeans accuracy score: {accuracy_score(y_test,kmeans_preds)*100}%')"
      ],
      "execution_count": 89,
      "outputs": [
        {
          "output_type": "stream",
          "text": [
            "KMeans accuracy score: 0.0%\n"
          ],
          "name": "stdout"
        }
      ]
    },
    {
      "cell_type": "code",
      "metadata": {
        "colab": {
          "base_uri": "https://localhost:8080/",
          "height": 141
        },
        "id": "mk4c9kcnsETs",
        "outputId": "f3111eff-5f31-4171-c433-f2420f53441d"
      },
      "source": [
        "kmeans_preds = pd.DataFrame.sparse.from_spmatrix(kmeans_preds)\n",
        "kmeans_preds.columns=['worker_reviews', 'expert_reviews']\n",
        "kmeans_preds.head(3)"
      ],
      "execution_count": 90,
      "outputs": [
        {
          "output_type": "execute_result",
          "data": {
            "text/html": [
              "<div>\n",
              "<style scoped>\n",
              "    .dataframe tbody tr th:only-of-type {\n",
              "        vertical-align: middle;\n",
              "    }\n",
              "\n",
              "    .dataframe tbody tr th {\n",
              "        vertical-align: top;\n",
              "    }\n",
              "\n",
              "    .dataframe thead th {\n",
              "        text-align: right;\n",
              "    }\n",
              "</style>\n",
              "<table border=\"1\" class=\"dataframe\">\n",
              "  <thead>\n",
              "    <tr style=\"text-align: right;\">\n",
              "      <th></th>\n",
              "      <th>worker_reviews</th>\n",
              "      <th>expert_reviews</th>\n",
              "    </tr>\n",
              "  </thead>\n",
              "  <tbody>\n",
              "    <tr>\n",
              "      <th>0</th>\n",
              "      <td>1.0</td>\n",
              "      <td>0.0</td>\n",
              "    </tr>\n",
              "    <tr>\n",
              "      <th>1</th>\n",
              "      <td>0.0</td>\n",
              "      <td>1.0</td>\n",
              "    </tr>\n",
              "    <tr>\n",
              "      <th>2</th>\n",
              "      <td>1.0</td>\n",
              "      <td>0.0</td>\n",
              "    </tr>\n",
              "  </tbody>\n",
              "</table>\n",
              "</div>"
            ],
            "text/plain": [
              "   worker_reviews  expert_reviews\n",
              "0             1.0             0.0\n",
              "1             0.0             1.0\n",
              "2             1.0             0.0"
            ]
          },
          "metadata": {
            "tags": []
          },
          "execution_count": 90
        }
      ]
    },
    {
      "cell_type": "code",
      "metadata": {
        "colab": {
          "base_uri": "https://localhost:8080/"
        },
        "id": "s584fUhL_a8t",
        "outputId": "a213299d-4d6e-403f-9025-6fd7b977e9ea"
      },
      "source": [
        "kmeans_pred_w = kmeans_preds['worker_reviews']\n",
        "y_test_kmw = y_test['worker_reviews']\n",
        "kmeans_pred_e = kmeans_preds['expert_reviews']\n",
        "y_test_kme = y_test['expert_reviews']\n",
        "\n",
        "print(f\"Worker Precision:, {metrics.precision_score(y_test_kmw, kmeans_pred_w)*100}\")\n",
        "print(f\"Worker Recall:, {metrics.recall_score(y_test_kmw, kmeans_pred_w)*100}\\n\")\n",
        "print(f\"Expert Precision:, {metrics.precision_score(y_test_kme, kmeans_pred_e)*100}\")\n",
        "print(f\"Expert Recall:, {metrics.recall_score(y_test_kme, kmeans_pred_e)*100}\")"
      ],
      "execution_count": 31,
      "outputs": [
        {
          "output_type": "stream",
          "text": [
            "Worker Precision:, 88.28202581926514\n",
            "Worker Recall:, 89.70736629667003\n",
            "\n",
            "Expert Precision:, 100.0\n",
            "Expert Recall:, 100.0\n"
          ],
          "name": "stdout"
        }
      ]
    },
    {
      "cell_type": "code",
      "metadata": {
        "colab": {
          "base_uri": "https://localhost:8080/",
          "height": 421
        },
        "id": "chockq6WBp_D",
        "outputId": "827a0c73-a6e9-4e99-bb31-c0e7b14b2786"
      },
      "source": [
        "cm = pd.crosstab(y_test_kmw, kmeans_pred_w, rownames=['Actual'], colnames=['Predicted'])\n",
        "print(cm)\n",
        "fig, (ax1) = plt.subplots(ncols=1, figsize=(5,5))\n",
        "sns.heatmap(cm, \n",
        "            xticklabels=['negative', 'positive'],\n",
        "            yticklabels=['negative', 'positive'],\n",
        "            annot=True,ax=ax1,\n",
        "            linewidths=.2,linecolor=\"Darkblue\", cmap=\"Blues\")\n",
        "plt.title('Confusion Matrix for Worker.', fontsize=14)\n",
        "plt.show()\n",
        "# 1= default\n",
        "# 0 = No default"
      ],
      "execution_count": 32,
      "outputs": [
        {
          "output_type": "stream",
          "text": [
            "Predicted    0  1.0\n",
            "Actual             \n",
            "0           79   77\n",
            "1          111  109\n"
          ],
          "name": "stdout"
        },
        {
          "output_type": "display_data",
          "data": {
            "image/png": "[encoded data removed]",
            "text/plain": [
              "<Figure size 360x360 with 2 Axes>"
            ]
          },
          "metadata": {
            "tags": [],
            "needs_background": "light"
          }
        }
      ]
    },
    {
      "cell_type": "code",
      "metadata": {
        "colab": {
          "base_uri": "https://localhost:8080/",
          "height": 421
        },
        "id": "qrwd2i8_Aa1P",
        "outputId": "05455675-cf27-45e9-bb5c-a04e684f856c"
      },
      "source": [
        "cm = pd.crosstab(y_test_kme, kmeans_pred_e, rownames=['Actual'], colnames=['Predicted'])\n",
        "print(cm)\n",
        "fig, (ax1) = plt.subplots(ncols=1, figsize=(5,5))\n",
        "sns.heatmap(cm, \n",
        "            xticklabels=['negative', 'positive'],\n",
        "            yticklabels=['negative', 'positive'],\n",
        "            annot=True,ax=ax1,\n",
        "            linewidths=.2,linecolor=\"Darkblue\", cmap=\"Blues\")\n",
        "plt.title('Confusion Matrix for Experts.', fontsize=14)\n",
        "plt.show()\n",
        "# 1= default\n",
        "# 0 = No default"
      ],
      "execution_count": 33,
      "outputs": [
        {
          "output_type": "stream",
          "text": [
            "Predicted    0  1.0\n",
            "Actual             \n",
            "0           78   73\n",
            "1          112  113\n"
          ],
          "name": "stdout"
        },
        {
          "output_type": "display_data",
          "data": {
            "image/png": "[encoded data removed]",
            "text/plain": [
              "<Figure size 360x360 with 2 Axes>"
            ]
          },
          "metadata": {
            "tags": [],
            "needs_background": "light"
          }
        }
      ]
    },
    {
      "cell_type": "markdown",
      "metadata": {
        "id": "fdZC8UOsdX_t"
      },
      "source": [
        "#### BernouliNB Classifier"
      ]
    },
    {
      "cell_type": "code",
      "metadata": {
        "colab": {
          "base_uri": "https://localhost:8080/"
        },
        "id": "qhJ5YFzRsvvO",
        "outputId": "b6e91576-cf1f-43b8-aa1e-236d52d6ce16"
      },
      "source": [
        "#Naive Bayes(Bernouli)\n",
        "\n",
        "bernNB = BernoulliNB(binarize = 0.1)\n",
        "bernNB_clf = ClassifierChain(bernNB)\n",
        "\n",
        "# train\n",
        "bernNB_clf.fit(X_train, y_train)\n",
        "\n",
        "# predict\n",
        "bernNB_preds = bernNB_clf.predict(X_test)\n",
        "\n",
        "print(f'Bernouli accuracy score: {accuracy_score(y_test,bernNB_preds)*100}%')"
      ],
      "execution_count": 34,
      "outputs": [
        {
          "output_type": "stream",
          "text": [
            "Bernouli accuracy score: 87.25%\n"
          ],
          "name": "stdout"
        }
      ]
    },
    {
      "cell_type": "code",
      "metadata": {
        "colab": {
          "base_uri": "https://localhost:8080/",
          "height": 141
        },
        "id": "BBIyhCcxy0l7",
        "outputId": "7d3d3b71-3718-4822-8294-89e1ab379b6e"
      },
      "source": [
        "bernNB_preds = pd.DataFrame.sparse.from_spmatrix(bernNB_preds)\n",
        "bernNB_preds.columns=['worker_reviews', 'expert_reviews']\n",
        "bernNB_preds.head(3)"
      ],
      "execution_count": 35,
      "outputs": [
        {
          "output_type": "execute_result",
          "data": {
            "text/html": [
              "<div>\n",
              "<style scoped>\n",
              "    .dataframe tbody tr th:only-of-type {\n",
              "        vertical-align: middle;\n",
              "    }\n",
              "\n",
              "    .dataframe tbody tr th {\n",
              "        vertical-align: top;\n",
              "    }\n",
              "\n",
              "    .dataframe thead th {\n",
              "        text-align: right;\n",
              "    }\n",
              "</style>\n",
              "<table border=\"1\" class=\"dataframe\">\n",
              "  <thead>\n",
              "    <tr style=\"text-align: right;\">\n",
              "      <th></th>\n",
              "      <th>worker_reviews</th>\n",
              "      <th>expert_reviews</th>\n",
              "    </tr>\n",
              "  </thead>\n",
              "  <tbody>\n",
              "    <tr>\n",
              "      <th>0</th>\n",
              "      <td>1.0</td>\n",
              "      <td>1.0</td>\n",
              "    </tr>\n",
              "    <tr>\n",
              "      <th>1</th>\n",
              "      <td>0.0</td>\n",
              "      <td>0.0</td>\n",
              "    </tr>\n",
              "    <tr>\n",
              "      <th>2</th>\n",
              "      <td>1.0</td>\n",
              "      <td>1.0</td>\n",
              "    </tr>\n",
              "  </tbody>\n",
              "</table>\n",
              "</div>"
            ],
            "text/plain": [
              "   worker_reviews  expert_reviews\n",
              "0             1.0             1.0\n",
              "1             0.0             0.0\n",
              "2             1.0             1.0"
            ]
          },
          "metadata": {
            "tags": []
          },
          "execution_count": 35
        }
      ]
    },
    {
      "cell_type": "markdown",
      "metadata": {
        "id": "BdxoBmR6a9eD"
      },
      "source": [
        "#### 5-fold cross validation"
      ]
    },
    {
      "cell_type": "code",
      "metadata": {
        "colab": {
          "base_uri": "https://localhost:8080/"
        },
        "id": "1eDOq-XHawtx",
        "outputId": "9926408e-7812-48b6-dd92-144153bfccde"
      },
      "source": [
        "print('5-fold cross validation: \\n')\n",
        "\n",
        "labels = ['Gaussian', 'Logistic Regression', 'K Means', 'Naive Bayes']\n",
        "\n",
        "\n",
        "for clf, label in zip([gaussian_clf, lr_clf, kmeans_clf, bernNB_clf], labels):\n",
        "  scores = model_selection.cross_val_score(clf, x, y, cv=5, scoring='accuracy')\n",
        "  print('Accuracy: %0.2f (+/- %0.2f) [%s]' %(scores.mean()*100, scores.std(), label))\n",
        "\n",
        "value_hard = 0.82"
      ],
      "execution_count": 36,
      "outputs": [
        {
          "output_type": "stream",
          "text": [
            "5-fold cross validation: \n",
            "\n",
            "Accuracy: 88.69 (+/- 0.01) [Gaussian]\n",
            "Accuracy: 88.86 (+/- 0.01) [Logistic Regression]\n",
            "Accuracy: 2.49 (+/- 0.04) [K Means]\n",
            "Accuracy: 24.55 (+/- 0.14) [Naive Bayes]\n"
          ],
          "name": "stdout"
        }
      ]
    },
    {
      "cell_type": "markdown",
      "metadata": {
        "id": "xQnu8A-8tra6"
      },
      "source": [
        "Now we can proceed to identify bias using our algorithms."
      ]
    },
    {
      "cell_type": "markdown",
      "metadata": {
        "id": "_nQ3fUANdf__"
      },
      "source": [
        "## Bias detection and mitigation"
      ]
    },
    {
      "cell_type": "markdown",
      "metadata": {
        "id": "W3_iVPQrFF0-"
      },
      "source": [
        "### Install aif360"
      ]
    },
    {
      "cell_type": "code",
      "metadata": {
        "colab": {
          "base_uri": "https://localhost:8080/"
        },
        "id": "5R8gnC44d2FW",
        "outputId": "e200d668-d0a4-429c-a561-9dc250e91403"
      },
      "source": [
        "pip install aif360[all]"
      ],
      "execution_count": 37,
      "outputs": [
        {
          "output_type": "stream",
          "text": [
            "Collecting aif360[all]\n",
            "\u001b[?25l  Downloading https://files.pythonhosted.org/packages/4c/71/0e19eaf2c513b2328b2b6188770bf1692437380c6e7a1eec3320354e4c87/aif360-0.4.0-py3-none-any.whl (175kB)\n",
            "\r\u001b[K     |█▉                              | 10kB 15.6MB/s eta 0:00:01\r\u001b[K     |███▊                            | 20kB 13.9MB/s eta 0:00:01\r\u001b[K     |█████▋                          | 30kB 6.7MB/s eta 0:00:01\r\u001b[K     |███████▌                        | 40kB 6.3MB/s eta 0:00:01\r\u001b[K     |█████████▍                      | 51kB 4.2MB/s eta 0:00:01\r\u001b[K     |███████████▎                    | 61kB 4.7MB/s eta 0:00:01\r\u001b[K     |█████████████                   | 71kB 4.9MB/s eta 0:00:01\r\u001b[K     |███████████████                 | 81kB 5.1MB/s eta 0:00:01\r\u001b[K     |████████████████▉               | 92kB 5.0MB/s eta 0:00:01\r\u001b[K     |██████████████████▊             | 102kB 5.0MB/s eta 0:00:01\r\u001b[K     |████████████████████▋           | 112kB 5.0MB/s eta 0:00:01\r\u001b[K     |██████████████████████▌         | 122kB 5.0MB/s eta 0:00:01\r\u001b[K     |████████████████████████▎       | 133kB 5.0MB/s eta 0:00:01\r\u001b[K     |██████████████████████████▏     | 143kB 5.0MB/s eta 0:00:01\r\u001b[K     |████████████████████████████    | 153kB 5.0MB/s eta 0:00:01\r\u001b[K     |██████████████████████████████  | 163kB 5.0MB/s eta 0:00:01\r\u001b[K     |███████████████████████████████▉| 174kB 5.0MB/s eta 0:00:01\r\u001b[K     |████████████████████████████████| 184kB 5.0MB/s \n",
            "\u001b[?25hRequirement already satisfied: numpy>=1.16 in /usr/local/lib/python3.7/dist-packages (from aif360[all]) (1.19.5)\n",
            "Requirement already satisfied: scikit-learn>=0.22.1 in /usr/local/lib/python3.7/dist-packages (from aif360[all]) (0.22.2.post1)\n",
            "Requirement already satisfied: matplotlib in /usr/local/lib/python3.7/dist-packages (from aif360[all]) (3.2.2)\n",
            "Collecting tempeh\n",
            "  Downloading https://files.pythonhosted.org/packages/b7/1b/d016f8d2ac250b7df50ffb630c3f71371d35ac92deb80653b0e4d2f9c1a9/tempeh-0.1.12-py3-none-any.whl\n",
            "Requirement already satisfied: pandas>=0.24.0 in /usr/local/lib/python3.7/dist-packages (from aif360[all]) (1.1.5)\n",
            "Requirement already satisfied: scipy<1.6.0,>=1.2.0 in /usr/local/lib/python3.7/dist-packages (from aif360[all]) (1.4.1)\n",
            "Requirement already satisfied: tqdm; extra == \"all\" in /usr/local/lib/python3.7/dist-packages (from aif360[all]) (4.41.1)\n",
            "Requirement already satisfied: tensorflow>=1.13.1; extra == \"all\" in /usr/local/lib/python3.7/dist-packages (from aif360[all]) (2.4.1)\n",
            "Collecting BlackBoxAuditing; extra == \"all\"\n",
            "\u001b[?25l  Downloading https://files.pythonhosted.org/packages/d8/2e/e2e7166bc78eb599b602ca79ace1ceba2ef83b69a0b708c9a7eb729347bf/BlackBoxAuditing-0.1.54.tar.gz (2.6MB)\n",
            "\u001b[K     |████████████████████████████████| 2.6MB 4.8MB/s \n",
            "\u001b[?25hRequirement already satisfied: pytest>=3.5; extra == \"all\" in /usr/local/lib/python3.7/dist-packages (from aif360[all]) (3.6.4)\n",
            "Collecting lime; extra == \"all\"\n",
            "\u001b[?25l  Downloading https://files.pythonhosted.org/packages/f5/86/91a13127d83d793ecb50eb75e716f76e6eda809b6803c5a4ff462339789e/lime-0.2.0.1.tar.gz (275kB)\n",
            "\u001b[K     |████████████████████████████████| 276kB 15.6MB/s \n",
            "\u001b[?25hCollecting sphinx-rtd-theme; extra == \"all\"\n",
            "\u001b[?25l  Downloading https://files.pythonhosted.org/packages/ac/24/2475e8f83519b54b2148d4a56eb1111f9cec630d088c3ffc214492c12107/sphinx_rtd_theme-0.5.2-py2.py3-none-any.whl (9.1MB)\n",
            "\u001b[K     |████████████████████████████████| 9.2MB 12.3MB/s \n",
            "\u001b[?25hCollecting adversarial-robustness-toolbox>=1.0.0; extra == \"all\"\n",
            "\u001b[?25l  Downloading https://files.pythonhosted.org/packages/7f/d0/50b97b40439062a023affc64227755a2b0355c4499096b5d0921cbfde0d1/adversarial_robustness_toolbox-1.6.1-py3-none-any.whl (970kB)\n",
            "\u001b[K     |████████████████████████████████| 972kB 43.4MB/s \n",
            "\u001b[?25hRequirement already satisfied: cvxpy>=1.0; extra == \"all\" in /usr/local/lib/python3.7/dist-packages (from aif360[all]) (1.0.31)\n",
            "Collecting fairlearn==0.4.6; extra == \"all\"\n",
            "\u001b[?25l  Downloading https://files.pythonhosted.org/packages/c0/ec/15764c20d27f4ec53e826eff160139c937274b646491c4de936a73444fd8/fairlearn-0.4.6-py3-none-any.whl (21.2MB)\n",
            "\u001b[K     |████████████████████████████████| 21.2MB 50.1MB/s \n",
            "\u001b[?25hRequirement already satisfied: jupyter; extra == \"all\" in /usr/local/lib/python3.7/dist-packages (from aif360[all]) (1.0.0)\n",
            "Requirement already satisfied: sphinx; extra == \"all\" in /usr/local/lib/python3.7/dist-packages (from aif360[all]) (1.8.5)\n",
            "Requirement already satisfied: joblib>=0.11 in /usr/local/lib/python3.7/dist-packages (from scikit-learn>=0.22.1->aif360[all]) (1.0.1)\n",
            "Requirement already satisfied: kiwisolver>=1.0.1 in /usr/local/lib/python3.7/dist-packages (from matplotlib->aif360[all]) (1.3.1)\n",
            "Requirement already satisfied: pyparsing!=2.0.4,!=2.1.2,!=2.1.6,>=2.0.1 in /usr/local/lib/python3.7/dist-packages (from matplotlib->aif360[all]) (2.4.7)\n",
            "Requirement already satisfied: python-dateutil>=2.1 in /usr/local/lib/python3.7/dist-packages (from matplotlib->aif360[all]) (2.8.1)\n",
            "Requirement already satisfied: cycler>=0.10 in /usr/local/lib/python3.7/dist-packages (from matplotlib->aif360[all]) (0.10.0)\n",
            "Collecting shap\n",
            "\u001b[?25l  Downloading https://files.pythonhosted.org/packages/b9/f4/c5b95cddae15be80f8e58b25edceca105aa83c0b8c86a1edad24a6af80d3/shap-0.39.0.tar.gz (356kB)\n",
            "\u001b[K     |████████████████████████████████| 358kB 56.6MB/s \n",
            "\u001b[?25hCollecting memory-profiler\n",
            "  Downloading https://files.pythonhosted.org/packages/8f/fd/d92b3295657f8837e0177e7b48b32d6651436f0293af42b76d134c3bb489/memory_profiler-0.58.0.tar.gz\n",
            "Requirement already satisfied: requests in /usr/local/lib/python3.7/dist-packages (from tempeh->aif360[all]) (2.23.0)\n",
            "Requirement already satisfied: pytz>=2017.2 in /usr/local/lib/python3.7/dist-packages (from pandas>=0.24.0->aif360[all]) (2018.9)\n",
            "Requirement already satisfied: wrapt~=1.12.1 in /usr/local/lib/python3.7/dist-packages (from tensorflow>=1.13.1; extra == \"all\"->aif360[all]) (1.12.1)\n",
            "Requirement already satisfied: opt-einsum~=3.3.0 in /usr/local/lib/python3.7/dist-packages (from tensorflow>=1.13.1; extra == \"all\"->aif360[all]) (3.3.0)\n",
            "Requirement already satisfied: keras-preprocessing~=1.1.2 in /usr/local/lib/python3.7/dist-packages (from tensorflow>=1.13.1; extra == \"all\"->aif360[all]) (1.1.2)\n",
            "Requirement already satisfied: protobuf>=3.9.2 in /usr/local/lib/python3.7/dist-packages (from tensorflow>=1.13.1; extra == \"all\"->aif360[all]) (3.12.4)\n",
            "Requirement already satisfied: gast==0.3.3 in /usr/local/lib/python3.7/dist-packages (from tensorflow>=1.13.1; extra == \"all\"->aif360[all]) (0.3.3)\n",
            "Requirement already satisfied: typing-extensions~=3.7.4 in /usr/local/lib/python3.7/dist-packages (from tensorflow>=1.13.1; extra == \"all\"->aif360[all]) (3.7.4.3)\n",
            "Requirement already satisfied: tensorboard~=2.4 in /usr/local/lib/python3.7/dist-packages (from tensorflow>=1.13.1; extra == \"all\"->aif360[all]) (2.4.1)\n",
            "Requirement already satisfied: six~=1.15.0 in /usr/local/lib/python3.7/dist-packages (from tensorflow>=1.13.1; extra == \"all\"->aif360[all]) (1.15.0)\n",
            "Requirement already satisfied: absl-py~=0.10 in /usr/local/lib/python3.7/dist-packages (from tensorflow>=1.13.1; extra == \"all\"->aif360[all]) (0.12.0)\n",
            "Requirement already satisfied: termcolor~=1.1.0 in /usr/local/lib/python3.7/dist-packages (from tensorflow>=1.13.1; extra == \"all\"->aif360[all]) (1.1.0)\n",
            "Requirement already satisfied: wheel~=0.35 in /usr/local/lib/python3.7/dist-packages (from tensorflow>=1.13.1; extra == \"all\"->aif360[all]) (0.36.2)\n",
            "Requirement already satisfied: h5py~=2.10.0 in /usr/local/lib/python3.7/dist-packages (from tensorflow>=1.13.1; extra == \"all\"->aif360[all]) (2.10.0)\n",
            "Requirement already satisfied: astunparse~=1.6.3 in /usr/local/lib/python3.7/dist-packages (from tensorflow>=1.13.1; extra == \"all\"->aif360[all]) (1.6.3)\n",
            "Requirement already satisfied: tensorflow-estimator<2.5.0,>=2.4.0 in /usr/local/lib/python3.7/dist-packages (from tensorflow>=1.13.1; extra == \"all\"->aif360[all]) (2.4.0)\n",
            "Requirement already satisfied: flatbuffers~=1.12.0 in /usr/local/lib/python3.7/dist-packages (from tensorflow>=1.13.1; extra == \"all\"->aif360[all]) (1.12)\n",
            "Requirement already satisfied: google-pasta~=0.2 in /usr/local/lib/python3.7/dist-packages (from tensorflow>=1.13.1; extra == \"all\"->aif360[all]) (0.2.0)\n",
            "Requirement already satisfied: grpcio~=1.32.0 in /usr/local/lib/python3.7/dist-packages (from tensorflow>=1.13.1; extra == \"all\"->aif360[all]) (1.32.0)\n",
            "Requirement already satisfied: networkx in /usr/local/lib/python3.7/dist-packages (from BlackBoxAuditing; extra == \"all\"->aif360[all]) (2.5.1)\n",
            "Requirement already satisfied: setuptools in /usr/local/lib/python3.7/dist-packages (from pytest>=3.5; extra == \"all\"->aif360[all]) (54.2.0)\n",
            "Requirement already satisfied: atomicwrites>=1.0 in /usr/local/lib/python3.7/dist-packages (from pytest>=3.5; extra == \"all\"->aif360[all]) (1.4.0)\n",
            "Requirement already satisfied: attrs>=17.4.0 in /usr/local/lib/python3.7/dist-packages (from pytest>=3.5; extra == \"all\"->aif360[all]) (20.3.0)\n",
            "Requirement already satisfied: py>=1.5.0 in /usr/local/lib/python3.7/dist-packages (from pytest>=3.5; extra == \"all\"->aif360[all]) (1.10.0)\n",
            "Requirement already satisfied: pluggy<0.8,>=0.5 in /usr/local/lib/python3.7/dist-packages (from pytest>=3.5; extra == \"all\"->aif360[all]) (0.7.1)\n",
            "Requirement already satisfied: more-itertools>=4.0.0 in /usr/local/lib/python3.7/dist-packages (from pytest>=3.5; extra == \"all\"->aif360[all]) (8.7.0)\n",
            "Requirement already satisfied: scikit-image>=0.12 in /usr/local/lib/python3.7/dist-packages (from lime; extra == \"all\"->aif360[all]) (0.16.2)\n",
            "Collecting docutils<0.17\n",
            "\u001b[?25l  Downloading https://files.pythonhosted.org/packages/81/44/8a15e45ffa96e6cf82956dd8d7af9e666357e16b0d93b253903475ee947f/docutils-0.16-py2.py3-none-any.whl (548kB)\n",
            "\u001b[K     |████████████████████████████████| 552kB 47.7MB/s \n",
            "\u001b[?25hCollecting cma\n",
            "\u001b[?25l  Downloading https://files.pythonhosted.org/packages/36/c0/0a1c41f7cad0a51e07991cf86423d0e6651d035f1fe7dcff48e8858848f2/cma-3.0.3-py2.py3-none-any.whl (230kB)\n",
            "\u001b[K     |████████████████████████████████| 235kB 45.2MB/s \n",
            "\u001b[?25hRequirement already satisfied: Pillow in /usr/local/lib/python3.7/dist-packages (from adversarial-robustness-toolbox>=1.0.0; extra == \"all\"->aif360[all]) (7.1.2)\n",
            "Collecting mypy\n",
            "\u001b[?25l  Downloading https://files.pythonhosted.org/packages/18/f0/6b01da1ffc9322ab3844c0138b3256fefba30eac889731ca74c671a7e66e/mypy-0.812-cp37-cp37m-manylinux2010_x86_64.whl (21.6MB)\n",
            "\u001b[K     |████████████████████████████████| 21.6MB 1.4MB/s \n",
            "\u001b[?25hRequirement already satisfied: statsmodels in /usr/local/lib/python3.7/dist-packages (from adversarial-robustness-toolbox>=1.0.0; extra == \"all\"->aif360[all]) (0.10.2)\n",
            "Requirement already satisfied: resampy in /usr/local/lib/python3.7/dist-packages (from adversarial-robustness-toolbox>=1.0.0; extra == \"all\"->aif360[all]) (0.2.2)\n",
            "Collecting pydub\n",
            "  Downloading https://files.pythonhosted.org/packages/a6/53/d78dc063216e62fc55f6b2eebb447f6a4b0a59f55c8406376f76bf959b08/pydub-0.25.1-py2.py3-none-any.whl\n",
            "Collecting ffmpeg-python\n",
            "  Downloading https://files.pythonhosted.org/packages/d7/0c/56be52741f75bad4dc6555991fabd2e07b432d333da82c11ad701123888a/ffmpeg_python-0.2.0-py3-none-any.whl\n",
            "Collecting numba~=0.53.1\n",
            "\u001b[?25l  Downloading https://files.pythonhosted.org/packages/bb/73/d9c127eddbe3c105a33379d425b88f9dca249a6eddf39ce886494d49c3f9/numba-0.53.1-cp37-cp37m-manylinux2014_x86_64.whl (3.4MB)\n",
            "\u001b[K     |████████████████████████████████| 3.4MB 19.1MB/s \n",
            "\u001b[?25hRequirement already satisfied: scs>=1.1.3 in /usr/local/lib/python3.7/dist-packages (from cvxpy>=1.0; extra == \"all\"->aif360[all]) (2.1.3)\n",
            "Requirement already satisfied: ecos>=2 in /usr/local/lib/python3.7/dist-packages (from cvxpy>=1.0; extra == \"all\"->aif360[all]) (2.0.7.post1)\n",
            "Requirement already satisfied: multiprocess in /usr/local/lib/python3.7/dist-packages (from cvxpy>=1.0; extra == \"all\"->aif360[all]) (0.70.11.1)\n",
            "Requirement already satisfied: osqp>=0.4.1 in /usr/local/lib/python3.7/dist-packages (from cvxpy>=1.0; extra == \"all\"->aif360[all]) (0.6.2.post0)\n",
            "Requirement already satisfied: ipywidgets>=7.5.0 in /usr/local/lib/python3.7/dist-packages (from fairlearn==0.4.6; extra == \"all\"->aif360[all]) (7.6.3)\n",
            "Requirement already satisfied: jupyter-console in /usr/local/lib/python3.7/dist-packages (from jupyter; extra == \"all\"->aif360[all]) (5.2.0)\n",
            "Requirement already satisfied: nbconvert in /usr/local/lib/python3.7/dist-packages (from jupyter; extra == \"all\"->aif360[all]) (5.6.1)\n",
            "Requirement already satisfied: notebook in /usr/local/lib/python3.7/dist-packages (from jupyter; extra == \"all\"->aif360[all]) (5.3.1)\n",
            "Requirement already satisfied: ipykernel in /usr/local/lib/python3.7/dist-packages (from jupyter; extra == \"all\"->aif360[all]) (4.10.1)\n",
            "Requirement already satisfied: qtconsole in /usr/local/lib/python3.7/dist-packages (from jupyter; extra == \"all\"->aif360[all]) (5.0.3)\n",
            "Requirement already satisfied: Pygments>=2.0 in /usr/local/lib/python3.7/dist-packages (from sphinx; extra == \"all\"->aif360[all]) (2.6.1)\n",
            "Requirement already satisfied: sphinxcontrib-websupport in /usr/local/lib/python3.7/dist-packages (from sphinx; extra == \"all\"->aif360[all]) (1.2.4)\n",
            "Requirement already satisfied: snowballstemmer>=1.1 in /usr/local/lib/python3.7/dist-packages (from sphinx; extra == \"all\"->aif360[all]) (2.1.0)\n",
            "Requirement already satisfied: Jinja2>=2.3 in /usr/local/lib/python3.7/dist-packages (from sphinx; extra == \"all\"->aif360[all]) (2.11.3)\n",
            "Requirement already satisfied: alabaster<0.8,>=0.7 in /usr/local/lib/python3.7/dist-packages (from sphinx; extra == \"all\"->aif360[all]) (0.7.12)\n",
            "Requirement already satisfied: imagesize in /usr/local/lib/python3.7/dist-packages (from sphinx; extra == \"all\"->aif360[all]) (1.2.0)\n",
            "Requirement already satisfied: babel!=2.0,>=1.3 in /usr/local/lib/python3.7/dist-packages (from sphinx; extra == \"all\"->aif360[all]) (2.9.0)\n",
            "Requirement already satisfied: packaging in /usr/local/lib/python3.7/dist-packages (from sphinx; extra == \"all\"->aif360[all]) (20.9)\n",
            "Collecting slicer==0.0.7\n",
            "  Downloading https://files.pythonhosted.org/packages/78/c2/b3f55dfdb8af9812fdb9baf70cacf3b9e82e505b2bd4324d588888b81202/slicer-0.0.7-py3-none-any.whl\n",
            "Requirement already satisfied: cloudpickle in /usr/local/lib/python3.7/dist-packages (from shap->tempeh->aif360[all]) (1.3.0)\n",
            "Requirement already satisfied: psutil in /usr/local/lib/python3.7/dist-packages (from memory-profiler->tempeh->aif360[all]) (5.4.8)\n",
            "Requirement already satisfied: chardet<4,>=3.0.2 in /usr/local/lib/python3.7/dist-packages (from requests->tempeh->aif360[all]) (3.0.4)\n",
            "Requirement already satisfied: idna<3,>=2.5 in /usr/local/lib/python3.7/dist-packages (from requests->tempeh->aif360[all]) (2.10)\n",
            "Requirement already satisfied: certifi>=2017.4.17 in /usr/local/lib/python3.7/dist-packages (from requests->tempeh->aif360[all]) (2020.12.5)\n",
            "Requirement already satisfied: urllib3!=1.25.0,!=1.25.1,<1.26,>=1.21.1 in /usr/local/lib/python3.7/dist-packages (from requests->tempeh->aif360[all]) (1.24.3)\n",
            "Requirement already satisfied: tensorboard-plugin-wit>=1.6.0 in /usr/local/lib/python3.7/dist-packages (from tensorboard~=2.4->tensorflow>=1.13.1; extra == \"all\"->aif360[all]) (1.8.0)\n",
            "Requirement already satisfied: markdown>=2.6.8 in /usr/local/lib/python3.7/dist-packages (from tensorboard~=2.4->tensorflow>=1.13.1; extra == \"all\"->aif360[all]) (3.3.4)\n",
            "Requirement already satisfied: werkzeug>=0.11.15 in /usr/local/lib/python3.7/dist-packages (from tensorboard~=2.4->tensorflow>=1.13.1; extra == \"all\"->aif360[all]) (1.0.1)\n",
            "Requirement already satisfied: google-auth-oauthlib<0.5,>=0.4.1 in /usr/local/lib/python3.7/dist-packages (from tensorboard~=2.4->tensorflow>=1.13.1; extra == \"all\"->aif360[all]) (0.4.4)\n",
            "Requirement already satisfied: google-auth<2,>=1.6.3 in /usr/local/lib/python3.7/dist-packages (from tensorboard~=2.4->tensorflow>=1.13.1; extra == \"all\"->aif360[all]) (1.28.1)\n",
            "Requirement already satisfied: decorator<5,>=4.3 in /usr/local/lib/python3.7/dist-packages (from networkx->BlackBoxAuditing; extra == \"all\"->aif360[all]) (4.4.2)\n",
            "Requirement already satisfied: imageio>=2.3.0 in /usr/local/lib/python3.7/dist-packages (from scikit-image>=0.12->lime; extra == \"all\"->aif360[all]) (2.4.1)\n",
            "Requirement already satisfied: PyWavelets>=0.4.0 in /usr/local/lib/python3.7/dist-packages (from scikit-image>=0.12->lime; extra == \"all\"->aif360[all]) (1.1.1)\n",
            "Collecting typed-ast<1.5.0,>=1.4.0\n",
            "\u001b[?25l  Downloading https://files.pythonhosted.org/packages/65/b3/573d2f1fecbbe8f82a8d08172e938c247f99abe1be3bef3da2efaa3810bf/typed_ast-1.4.3-cp37-cp37m-manylinux1_x86_64.whl (743kB)\n",
            "\u001b[K     |████████████████████████████████| 747kB 40.1MB/s \n",
            "\u001b[?25hCollecting mypy-extensions<0.5.0,>=0.4.3\n",
            "  Downloading https://files.pythonhosted.org/packages/5c/eb/975c7c080f3223a5cdaff09612f3a5221e4ba534f7039db34c35d95fa6a5/mypy_extensions-0.4.3-py2.py3-none-any.whl\n",
            "Requirement already satisfied: patsy>=0.4.0 in /usr/local/lib/python3.7/dist-packages (from statsmodels->adversarial-robustness-toolbox>=1.0.0; extra == \"all\"->aif360[all]) (0.5.1)\n",
            "Requirement already satisfied: future in /usr/local/lib/python3.7/dist-packages (from ffmpeg-python->adversarial-robustness-toolbox>=1.0.0; extra == \"all\"->aif360[all]) (0.16.0)\n",
            "Collecting llvmlite<0.37,>=0.36.0rc1\n",
            "\u001b[?25l  Downloading https://files.pythonhosted.org/packages/54/25/2b4015e2b0c3be2efa6870cf2cf2bd969dd0e5f937476fc13c102209df32/llvmlite-0.36.0-cp37-cp37m-manylinux2010_x86_64.whl (25.3MB)\n",
            "\u001b[K     |████████████████████████████████| 25.3MB 1.5MB/s \n",
            "\u001b[?25hRequirement already satisfied: dill>=0.3.3 in /usr/local/lib/python3.7/dist-packages (from multiprocess->cvxpy>=1.0; extra == \"all\"->aif360[all]) (0.3.3)\n",
            "Requirement already satisfied: qdldl in /usr/local/lib/python3.7/dist-packages (from osqp>=0.4.1->cvxpy>=1.0; extra == \"all\"->aif360[all]) (0.1.5.post0)\n",
            "Requirement already satisfied: widgetsnbextension~=3.5.0 in /usr/local/lib/python3.7/dist-packages (from ipywidgets>=7.5.0->fairlearn==0.4.6; extra == \"all\"->aif360[all]) (3.5.1)\n",
            "Requirement already satisfied: ipython>=4.0.0; python_version >= \"3.3\" in /usr/local/lib/python3.7/dist-packages (from ipywidgets>=7.5.0->fairlearn==0.4.6; extra == \"all\"->aif360[all]) (5.5.0)\n",
            "Requirement already satisfied: nbformat>=4.2.0 in /usr/local/lib/python3.7/dist-packages (from ipywidgets>=7.5.0->fairlearn==0.4.6; extra == \"all\"->aif360[all]) (5.1.3)\n",
            "Requirement already satisfied: jupyterlab-widgets>=1.0.0; python_version >= \"3.6\" in /usr/local/lib/python3.7/dist-packages (from ipywidgets>=7.5.0->fairlearn==0.4.6; extra == \"all\"->aif360[all]) (1.0.0)\n",
            "Requirement already satisfied: traitlets>=4.3.1 in /usr/local/lib/python3.7/dist-packages (from ipywidgets>=7.5.0->fairlearn==0.4.6; extra == \"all\"->aif360[all]) (5.0.5)\n",
            "Requirement already satisfied: jupyter-client in /usr/local/lib/python3.7/dist-packages (from jupyter-console->jupyter; extra == \"all\"->aif360[all]) (5.3.5)\n",
            "Requirement already satisfied: prompt-toolkit<2.0.0,>=1.0.0 in /usr/local/lib/python3.7/dist-packages (from jupyter-console->jupyter; extra == \"all\"->aif360[all]) (1.0.18)\n",
            "Requirement already satisfied: testpath in /usr/local/lib/python3.7/dist-packages (from nbconvert->jupyter; extra == \"all\"->aif360[all]) (0.4.4)\n",
            "Requirement already satisfied: mistune<2,>=0.8.1 in /usr/local/lib/python3.7/dist-packages (from nbconvert->jupyter; extra == \"all\"->aif360[all]) (0.8.4)\n",
            "Requirement already satisfied: pandocfilters>=1.4.1 in /usr/local/lib/python3.7/dist-packages (from nbconvert->jupyter; extra == \"all\"->aif360[all]) (1.4.3)\n",
            "Requirement already satisfied: bleach in /usr/local/lib/python3.7/dist-packages (from nbconvert->jupyter; extra == \"all\"->aif360[all]) (3.3.0)\n",
            "Requirement already satisfied: entrypoints>=0.2.2 in /usr/local/lib/python3.7/dist-packages (from nbconvert->jupyter; extra == \"all\"->aif360[all]) (0.3)\n",
            "Requirement already satisfied: jupyter-core in /usr/local/lib/python3.7/dist-packages (from nbconvert->jupyter; extra == \"all\"->aif360[all]) (4.7.1)\n",
            "Requirement already satisfied: defusedxml in /usr/local/lib/python3.7/dist-packages (from nbconvert->jupyter; extra == \"all\"->aif360[all]) (0.7.1)\n",
            "Requirement already satisfied: Send2Trash in /usr/local/lib/python3.7/dist-packages (from notebook->jupyter; extra == \"all\"->aif360[all]) (1.5.0)\n",
            "Requirement already satisfied: ipython-genutils in /usr/local/lib/python3.7/dist-packages (from notebook->jupyter; extra == \"all\"->aif360[all]) (0.2.0)\n",
            "Requirement already satisfied: tornado>=4 in /usr/local/lib/python3.7/dist-packages (from notebook->jupyter; extra == \"all\"->aif360[all]) (5.1.1)\n",
            "Requirement already satisfied: terminado>=0.8.1 in /usr/local/lib/python3.7/dist-packages (from notebook->jupyter; extra == \"all\"->aif360[all]) (0.9.4)\n",
            "Requirement already satisfied: pyzmq>=17.1 in /usr/local/lib/python3.7/dist-packages (from qtconsole->jupyter; extra == \"all\"->aif360[all]) (22.0.3)\n",
            "Requirement already satisfied: qtpy in /usr/local/lib/python3.7/dist-packages (from qtconsole->jupyter; extra == \"all\"->aif360[all]) (1.9.0)\n",
            "Requirement already satisfied: sphinxcontrib-serializinghtml in /usr/local/lib/python3.7/dist-packages (from sphinxcontrib-websupport->sphinx; extra == \"all\"->aif360[all]) (1.1.4)\n",
            "Requirement already satisfied: MarkupSafe>=0.23 in /usr/local/lib/python3.7/dist-packages (from Jinja2>=2.3->sphinx; extra == \"all\"->aif360[all]) (1.1.1)\n",
            "Requirement already satisfied: importlib-metadata; python_version < \"3.8\" in /usr/local/lib/python3.7/dist-packages (from markdown>=2.6.8->tensorboard~=2.4->tensorflow>=1.13.1; extra == \"all\"->aif360[all]) (3.10.1)\n",
            "Requirement already satisfied: requests-oauthlib>=0.7.0 in /usr/local/lib/python3.7/dist-packages (from google-auth-oauthlib<0.5,>=0.4.1->tensorboard~=2.4->tensorflow>=1.13.1; extra == \"all\"->aif360[all]) (1.3.0)\n",
            "Requirement already satisfied: cachetools<5.0,>=2.0.0 in /usr/local/lib/python3.7/dist-packages (from google-auth<2,>=1.6.3->tensorboard~=2.4->tensorflow>=1.13.1; extra == \"all\"->aif360[all]) (4.2.1)\n",
            "Requirement already satisfied: pyasn1-modules>=0.2.1 in /usr/local/lib/python3.7/dist-packages (from google-auth<2,>=1.6.3->tensorboard~=2.4->tensorflow>=1.13.1; extra == \"all\"->aif360[all]) (0.2.8)\n",
            "Requirement already satisfied: rsa<5,>=3.1.4; python_version >= \"3.6\" in /usr/local/lib/python3.7/dist-packages (from google-auth<2,>=1.6.3->tensorboard~=2.4->tensorflow>=1.13.1; extra == \"all\"->aif360[all]) (4.7.2)\n",
            "Requirement already satisfied: simplegeneric>0.8 in /usr/local/lib/python3.7/dist-packages (from ipython>=4.0.0; python_version >= \"3.3\"->ipywidgets>=7.5.0->fairlearn==0.4.6; extra == \"all\"->aif360[all]) (0.8.1)\n",
            "Requirement already satisfied: pexpect; sys_platform != \"win32\" in /usr/local/lib/python3.7/dist-packages (from ipython>=4.0.0; python_version >= \"3.3\"->ipywidgets>=7.5.0->fairlearn==0.4.6; extra == \"all\"->aif360[all]) (4.8.0)\n",
            "Requirement already satisfied: pickleshare in /usr/local/lib/python3.7/dist-packages (from ipython>=4.0.0; python_version >= \"3.3\"->ipywidgets>=7.5.0->fairlearn==0.4.6; extra == \"all\"->aif360[all]) (0.7.5)\n",
            "Requirement already satisfied: jsonschema!=2.5.0,>=2.4 in /usr/local/lib/python3.7/dist-packages (from nbformat>=4.2.0->ipywidgets>=7.5.0->fairlearn==0.4.6; extra == \"all\"->aif360[all]) (2.6.0)\n",
            "Requirement already satisfied: wcwidth in /usr/local/lib/python3.7/dist-packages (from prompt-toolkit<2.0.0,>=1.0.0->jupyter-console->jupyter; extra == \"all\"->aif360[all]) (0.2.5)\n",
            "Requirement already satisfied: webencodings in /usr/local/lib/python3.7/dist-packages (from bleach->nbconvert->jupyter; extra == \"all\"->aif360[all]) (0.5.1)\n",
            "Requirement already satisfied: ptyprocess; os_name != \"nt\" in /usr/local/lib/python3.7/dist-packages (from terminado>=0.8.1->notebook->jupyter; extra == \"all\"->aif360[all]) (0.7.0)\n",
            "Requirement already satisfied: zipp>=0.5 in /usr/local/lib/python3.7/dist-packages (from importlib-metadata; python_version < \"3.8\"->markdown>=2.6.8->tensorboard~=2.4->tensorflow>=1.13.1; extra == \"all\"->aif360[all]) (3.4.1)\n",
            "Requirement already satisfied: oauthlib>=3.0.0 in /usr/local/lib/python3.7/dist-packages (from requests-oauthlib>=0.7.0->google-auth-oauthlib<0.5,>=0.4.1->tensorboard~=2.4->tensorflow>=1.13.1; extra == \"all\"->aif360[all]) (3.1.0)\n",
            "Requirement already satisfied: pyasn1<0.5.0,>=0.4.6 in /usr/local/lib/python3.7/dist-packages (from pyasn1-modules>=0.2.1->google-auth<2,>=1.6.3->tensorboard~=2.4->tensorflow>=1.13.1; extra == \"all\"->aif360[all]) (0.4.8)\n",
            "Building wheels for collected packages: BlackBoxAuditing, lime, shap, memory-profiler\n",
            "  Building wheel for BlackBoxAuditing (setup.py) ... \u001b[?25l\u001b[?25hdone\n",
            "  Created wheel for BlackBoxAuditing: filename=BlackBoxAuditing-0.1.54-py2.py3-none-any.whl size=1394769 sha256=c1292f84b3d3bdda32316711db1b7686c3f8bdc8fb200693881b03522efdfe55\n",
            "  Stored in directory: /root/.cache/pip/wheels/66/82/7b/ac2a79b8caf97e15ed415162a7f272cbba1e2e2c851fa76ae3\n",
            "  Building wheel for lime (setup.py) ... \u001b[?25l\u001b[?25hdone\n",
            "  Created wheel for lime: filename=lime-0.2.0.1-cp37-none-any.whl size=283846 sha256=ab46d34a930874c575f0036d9da57f2e832e5b87c6d3ab9f34329f7250862b0b\n",
            "  Stored in directory: /root/.cache/pip/wheels/4c/4f/a5/0bc765457bd41378bf3ce8d17d7495369d6e7ca3b712c60c89\n",
            "  Building wheel for shap (setup.py) ... \u001b[?25l\u001b[?25hdone\n",
            "  Created wheel for shap: filename=shap-0.39.0-cp37-cp37m-linux_x86_64.whl size=491627 sha256=626f7e3f905203a97c5afbe4de45974e6bfa4b2bbb015457357aefd3a0df5748\n",
            "  Stored in directory: /root/.cache/pip/wheels/15/27/f5/a8ab9da52fd159aae6477b5ede6eaaec69fd130fa0fa59f283\n",
            "  Building wheel for memory-profiler (setup.py) ... \u001b[?25l\u001b[?25hdone\n",
            "  Created wheel for memory-profiler: filename=memory_profiler-0.58.0-cp37-none-any.whl size=30180 sha256=eb157fabaf3d0ce50362907c50e2c0ed81d996f72d5c3ce2e5128ec055b1eaf1\n",
            "  Stored in directory: /root/.cache/pip/wheels/02/e4/0b/aaab481fc5dd2a4ea59e78bc7231bb6aae7635ca7ee79f8ae5\n",
            "Successfully built BlackBoxAuditing lime shap memory-profiler\n",
            "\u001b[31mERROR: datascience 0.10.6 has requirement folium==0.2.1, but you'll have folium 0.8.3 which is incompatible.\u001b[0m\n",
            "Installing collected packages: slicer, llvmlite, numba, shap, memory-profiler, tempeh, BlackBoxAuditing, lime, docutils, sphinx-rtd-theme, cma, typed-ast, mypy-extensions, mypy, pydub, ffmpeg-python, adversarial-robustness-toolbox, fairlearn, aif360\n",
            "  Found existing installation: llvmlite 0.34.0\n",
            "    Uninstalling llvmlite-0.34.0:\n",
            "      Successfully uninstalled llvmlite-0.34.0\n",
            "  Found existing installation: numba 0.51.2\n",
            "    Uninstalling numba-0.51.2:\n",
            "      Successfully uninstalled numba-0.51.2\n",
            "  Found existing installation: docutils 0.17\n",
            "    Uninstalling docutils-0.17:\n",
            "      Successfully uninstalled docutils-0.17\n",
            "Successfully installed BlackBoxAuditing-0.1.54 adversarial-robustness-toolbox-1.6.1 aif360-0.4.0 cma-3.0.3 docutils-0.16 fairlearn-0.4.6 ffmpeg-python-0.2.0 lime-0.2.0.1 llvmlite-0.36.0 memory-profiler-0.58.0 mypy-0.812 mypy-extensions-0.4.3 numba-0.53.1 pydub-0.25.1 shap-0.39.0 slicer-0.0.7 sphinx-rtd-theme-0.5.2 tempeh-0.1.12 typed-ast-1.4.3\n"
          ],
          "name": "stdout"
        }
      ]
    },
    {
      "cell_type": "markdown",
      "metadata": {
        "id": "LViXgw1iFMIP"
      },
      "source": [
        "### Identifying Bias in the Data"
      ]
    },
    {
      "cell_type": "code",
      "metadata": {
        "colab": {
          "base_uri": "https://localhost:8080/"
        },
        "id": "r0eNS2Rher9z",
        "outputId": "0b683e27-ccab-4b77-c7ef-ab6f4ab1a334"
      },
      "source": [
        "positive_df = df[df['worker_reviews'] == 1]\n",
        "num_of_privileged = len(positive_df)\n",
        "\n",
        "negative_df = df[df['worker_reviews'] == 0]\n",
        "num_of_unprivileged = len(negative_df)\n",
        "\n",
        "print(f'Num privileged: {num_of_privileged}')\n",
        "print(f'Num unprivileged: {num_of_unprivileged}')"
      ],
      "execution_count": 50,
      "outputs": [
        {
          "output_type": "stream",
          "text": [
            "Num privileged: 5011\n",
            "Num unprivileged: 4988\n"
          ],
          "name": "stdout"
        }
      ]
    },
    {
      "cell_type": "code",
      "metadata": {
        "colab": {
          "base_uri": "https://localhost:8080/"
        },
        "id": "CMF-s5zqphT1",
        "outputId": "3edaa822-6d31-44b9-f82e-05ef9f5a451c"
      },
      "source": [
        "unprivileged_outcomes = negative_df[negative_df['expert_reviews'] == 1].shape[0]\n",
        "unprivileged_ratio = unprivileged_outcomes/num_of_unprivileged\n",
        "print(f'Unprivileged ratio: {unprivileged_ratio}')"
      ],
      "execution_count": 51,
      "outputs": [
        {
          "output_type": "stream",
          "text": [
            "Unprivileged ratio: 0.11547714514835605\n"
          ],
          "name": "stdout"
        }
      ]
    },
    {
      "cell_type": "code",
      "metadata": {
        "colab": {
          "base_uri": "https://localhost:8080/"
        },
        "id": "Wk2hhCWLpoay",
        "outputId": "308ab206-ba7b-4477-cb78-8f0790e44850"
      },
      "source": [
        "privileged_outcomes = positive_df[positive_df['expert_reviews'] == 1].shape[0]\n",
        "privileged_ratio = privileged_outcomes/num_of_privileged\n",
        "print(f'Privileged ratio: {privileged_ratio}')"
      ],
      "execution_count": 53,
      "outputs": [
        {
          "output_type": "stream",
          "text": [
            "Privileged ratio: 0.9026142486529635\n"
          ],
          "name": "stdout"
        }
      ]
    },
    {
      "cell_type": "code",
      "metadata": {
        "colab": {
          "base_uri": "https://localhost:8080/"
        },
        "id": "5gqmwMOtrPIE",
        "outputId": "2d43f036-1a62-4aa5-90e0-a6da2840dadf"
      },
      "source": [
        "# Calculating disparate impact\n",
        "disparate_impact = unprivileged_ratio / privileged_ratio\n",
        "print(f'Disparate Impact: {disparate_impact}')"
      ],
      "execution_count": 56,
      "outputs": [
        {
          "output_type": "stream",
          "text": [
            "Disparate Impact: 0.12793631977413492\n"
          ],
          "name": "stdout"
        }
      ]
    },
    {
      "cell_type": "markdown",
      "metadata": {
        "id": "uV0E56BFuJyL"
      },
      "source": [
        "The industry standard is a four-fifths rule: if the unprivileged group receives a positive outcome less than 80% of their proportion of the privilege group, this is a disparate impact violation. However, you may decide to increase this for your business.\n",
        "\n",
        "In this scenario, we are below the threshold of 0.98 so we deem this to be fair.\n",
        "\n",
        "A disparate income ratio of 1 indicates complete equality."
      ]
    },
    {
      "cell_type": "markdown",
      "metadata": {
        "id": "7usEoTaZu-BG"
      },
      "source": [
        "### Mitigating Bias with AI Fairness 360"
      ]
    },
    {
      "cell_type": "code",
      "metadata": {
        "id": "IPx3y-izrzM_"
      },
      "source": [
        "import aif360\n",
        "from aif360.algorithms.preprocessing import DisparateImpactRemover\n",
        "binaryLabelDataset = aif360.datasets.BinaryLabelDataset(\n",
        "    favorable_label=1,\n",
        "    unfavorable_label=0,\n",
        "    df=df,\n",
        "    label_names=['expert_reviews'],\n",
        "    protected_attribute_names=['worker_reviews'])"
      ],
      "execution_count": 43,
      "outputs": []
    },
    {
      "cell_type": "code",
      "metadata": {
        "colab": {
          "base_uri": "https://localhost:8080/",
          "height": 222
        },
        "id": "bw0pheT2y0Ha",
        "outputId": "f93508f1-2482-4c14-d5f3-011d0d477065"
      },
      "source": [
        "di = DisparateImpactRemover(repair_level = 1.0)\n",
        "dataset_transf_train = di.fit_transform(binaryLabelDataset)\n",
        "transformed = dataset_transf_train.convert_to_dataframe()[0]\n",
        "transformed.describe().T"
      ],
      "execution_count": 57,
      "outputs": [
        {
          "output_type": "execute_result",
          "data": {
            "text/html": [
              "<div>\n",
              "<style scoped>\n",
              "    .dataframe tbody tr th:only-of-type {\n",
              "        vertical-align: middle;\n",
              "    }\n",
              "\n",
              "    .dataframe tbody tr th {\n",
              "        vertical-align: top;\n",
              "    }\n",
              "\n",
              "    .dataframe thead th {\n",
              "        text-align: right;\n",
              "    }\n",
              "</style>\n",
              "<table border=\"1\" class=\"dataframe\">\n",
              "  <thead>\n",
              "    <tr style=\"text-align: right;\">\n",
              "      <th></th>\n",
              "      <th>count</th>\n",
              "      <th>mean</th>\n",
              "      <th>std</th>\n",
              "      <th>min</th>\n",
              "      <th>25%</th>\n",
              "      <th>50%</th>\n",
              "      <th>75%</th>\n",
              "      <th>max</th>\n",
              "    </tr>\n",
              "  </thead>\n",
              "  <tbody>\n",
              "    <tr>\n",
              "      <th>worker_id</th>\n",
              "      <td>9999.0</td>\n",
              "      <td>0.008401</td>\n",
              "      <td>0.091275</td>\n",
              "      <td>0.0</td>\n",
              "      <td>0.0</td>\n",
              "      <td>0.0</td>\n",
              "      <td>0.0</td>\n",
              "      <td>1.0</td>\n",
              "    </tr>\n",
              "    <tr>\n",
              "      <th>task_id</th>\n",
              "      <td>9999.0</td>\n",
              "      <td>4459.792579</td>\n",
              "      <td>2746.186450</td>\n",
              "      <td>23.0</td>\n",
              "      <td>2346.0</td>\n",
              "      <td>4034.0</td>\n",
              "      <td>6334.0</td>\n",
              "      <td>10431.0</td>\n",
              "    </tr>\n",
              "    <tr>\n",
              "      <th>worker_reviews</th>\n",
              "      <td>9999.0</td>\n",
              "      <td>0.501150</td>\n",
              "      <td>0.500024</td>\n",
              "      <td>0.0</td>\n",
              "      <td>0.0</td>\n",
              "      <td>1.0</td>\n",
              "      <td>1.0</td>\n",
              "      <td>1.0</td>\n",
              "    </tr>\n",
              "    <tr>\n",
              "      <th>time_taken</th>\n",
              "      <td>9999.0</td>\n",
              "      <td>48.701070</td>\n",
              "      <td>144.287692</td>\n",
              "      <td>1.0</td>\n",
              "      <td>5.0</td>\n",
              "      <td>8.0</td>\n",
              "      <td>21.0</td>\n",
              "      <td>2875.0</td>\n",
              "    </tr>\n",
              "    <tr>\n",
              "      <th>expert_reviews</th>\n",
              "      <td>9999.0</td>\n",
              "      <td>0.509951</td>\n",
              "      <td>0.499926</td>\n",
              "      <td>0.0</td>\n",
              "      <td>0.0</td>\n",
              "      <td>1.0</td>\n",
              "      <td>1.0</td>\n",
              "      <td>1.0</td>\n",
              "    </tr>\n",
              "  </tbody>\n",
              "</table>\n",
              "</div>"
            ],
            "text/plain": [
              "                 count         mean          std  ...     50%     75%      max\n",
              "worker_id       9999.0     0.008401     0.091275  ...     0.0     0.0      1.0\n",
              "task_id         9999.0  4459.792579  2746.186450  ...  4034.0  6334.0  10431.0\n",
              "worker_reviews  9999.0     0.501150     0.500024  ...     1.0     1.0      1.0\n",
              "time_taken      9999.0    48.701070   144.287692  ...     8.0    21.0   2875.0\n",
              "expert_reviews  9999.0     0.509951     0.499926  ...     1.0     1.0      1.0\n",
              "\n",
              "[5 rows x 8 columns]"
            ]
          },
          "metadata": {
            "tags": []
          },
          "execution_count": 57
        }
      ]
    },
    {
      "cell_type": "code",
      "metadata": {
        "id": "h_NYvOIO2t74"
      },
      "source": [
        "x_trans = transformed[['task_id', 'time_taken']]\n",
        "y = transformed[['worker_reviews', 'expert_reviews']]\n",
        "scaler = StandardScaler()\n",
        "x_trans = scaler.fit_transform(x_trans)\n",
        "x_trans_train,x_trans_test,y_trans_train,y_trans_test = train_test_split(x_trans, y, test_size=0.2, random_state = 0)"
      ],
      "execution_count": 69,
      "outputs": []
    },
    {
      "cell_type": "markdown",
      "metadata": {
        "id": "__jb6UpkFYFT"
      },
      "source": [
        "### Models"
      ]
    },
    {
      "cell_type": "markdown",
      "metadata": {
        "id": "BNZkaDKkB4Jq"
      },
      "source": [
        "#### GaussianNB Classifier"
      ]
    },
    {
      "cell_type": "code",
      "metadata": {
        "colab": {
          "base_uri": "https://localhost:8080/"
        },
        "id": "myVtAPPqB37l",
        "outputId": "b69d1978-ded8-4d3a-cd83-24f12b78d16b"
      },
      "source": [
        "gaussian_clf.fit(x_trans_train, y_trans_train)\n",
        "\n",
        "y_trans_preds_g = gaussian_clf.predict(x_trans_test)\n",
        "\n",
        "\n",
        "print(f'Gaussian accuracy score: {accuracy_score(y_trans_test, y_trans_preds_g)*100}%\\n')\n",
        "\n",
        "# Convert predictions from sparse matrix to dataframe.\n",
        "y_trans_preds_g = pd.DataFrame.sparse.from_spmatrix(y_trans_preds_g)\n",
        "y_trans_preds_g.columns=['worker_reviews', 'expert_reviews']\n",
        "\n",
        "# Split the labels into two. (wokers and experts)\n",
        "gaussian_trans_pred_w = y_trans_preds_g['worker_reviews']\n",
        "y_trans_test_gw = y_trans_test['worker_reviews']\n",
        "gaussian_trans_pred_e = y_trans_preds_g['expert_reviews']\n",
        "y_trans_test_ge = y_test['expert_reviews']\n",
        "\n",
        "print(f\"Worker Precision:, {metrics.precision_score(y_trans_test_gw, gaussian_trans_pred_w)*100}\")\n",
        "print(f\"Worker Recall:, {metrics.recall_score(y_trans_test_gw, gaussian_trans_pred_w)*100}\\n\")\n",
        "print(f\"Expert Precision:, {metrics.precision_score(y_trans_test_gw, gaussian_trans_pred_e)*100}\")\n",
        "print(f\"Expert Recall:, {metrics.recall_score(y_trans_test_gw, gaussian_trans_pred_e)*100}\")"
      ],
      "execution_count": 83,
      "outputs": [
        {
          "output_type": "stream",
          "text": [
            "Gaussian accuracy score: 69.0%\n",
            "\n",
            "Worker Precision:, 65.70048309178745\n",
            "Worker Recall:, 80.79207920792079\n",
            "\n",
            "Expert Precision:, 65.67284448025785\n",
            "Expert Recall:, 80.6930693069307\n"
          ],
          "name": "stdout"
        }
      ]
    },
    {
      "cell_type": "markdown",
      "metadata": {
        "id": "ouJSfwlIB0jQ"
      },
      "source": [
        "#### Logistic Regression"
      ]
    },
    {
      "cell_type": "code",
      "metadata": {
        "colab": {
          "base_uri": "https://localhost:8080/"
        },
        "id": "wEClleKj218Y",
        "outputId": "d710bf07-20c4-4f17-925d-6767916303b7"
      },
      "source": [
        "lr_clf.fit(x_trans_train, y_trans_train)\n",
        "\n",
        "y_trans_preds_lr = lr_clf.predict(x_trans_test)\n",
        "\n",
        "print(f'Logistic accuracy score: {accuracy_score(y_trans_test, y_trans_preds_lr)*100}%\\n')\n",
        "\n",
        "# Convert predictions from sparse matrix to dataframe.\n",
        "y_trans_preds_lr = pd.DataFrame.sparse.from_spmatrix(y_trans_preds_lr)\n",
        "y_trans_preds_lr.columns=['worker_reviews', 'expert_reviews']\n",
        "\n",
        "# Split the labels into two. (wokers and experts)\n",
        "lr_trans_pred_w = y_trans_preds_lr['worker_reviews']\n",
        "y_trans_test_lw = y_trans_test['worker_reviews']\n",
        "lr_trans_pred_e = y_trans_preds_lr['expert_reviews']\n",
        "y_trans_test_le = y_trans_test['expert_reviews']\n",
        "\n",
        "print(f\"Worker Precision:, {metrics.precision_score(y_trans_test_lw, lr_trans_pred_w)*100}\")\n",
        "print(f\"Worker Recall:, {metrics.recall_score(y_trans_test_lw, lr_trans_pred_w)*100}\\n\")\n",
        "print(f\"Expert Precision:, {metrics.precision_score(y_trans_test_lw, lr_trans_pred_e)*100}\")\n",
        "print(f\"Expert Recall:, {metrics.recall_score(y_trans_test_lw, lr_trans_pred_e)*100}\")"
      ],
      "execution_count": 85,
      "outputs": [
        {
          "output_type": "stream",
          "text": [
            "Logistic accuracy score: 69.85%\n",
            "\n",
            "Worker Precision:, 67.80402449693788\n",
            "Worker Recall:, 76.73267326732673\n",
            "\n",
            "Expert Precision:, 67.80402449693788\n",
            "Expert Recall:, 76.73267326732673\n"
          ],
          "name": "stdout"
        }
      ]
    },
    {
      "cell_type": "markdown",
      "metadata": {
        "id": "hwGsUPaoEf6J"
      },
      "source": [
        "#### KMeans Classifier"
      ]
    },
    {
      "cell_type": "code",
      "metadata": {
        "colab": {
          "base_uri": "https://localhost:8080/"
        },
        "id": "4jrxLj5KEfeS",
        "outputId": "692029d6-6e6d-4c58-c3d6-1c69be406852"
      },
      "source": [
        "# train\n",
        "kmeans_clf.fit(x_trans_train, y_trans_train)\n",
        "\n",
        "# predict\n",
        "kmeans_trans_preds = kmeans_clf.predict(x_trans_test)\n",
        "\n",
        "print(f'KMeans accuracy score: {accuracy_score(y_trans_test,kmeans_trans_preds)*100}%\\n')\n",
        "\n",
        "# Convert predictions from sparse matrix to dataframe.\n",
        "kmeans_trans_preds = pd.DataFrame.sparse.from_spmatrix(kmeans_trans_preds)\n",
        "kmeans_trans_preds.columns=['worker_reviews', 'expert_reviews']\n",
        "\n",
        "# Split the labels into two. (wokers and experts)\n",
        "kmeans_trans_pred_w = kmeans_trans_preds['worker_reviews']\n",
        "y_trans_test_kw = y_trans_test['worker_reviews']\n",
        "kmeans_trans_pred_e = kmeans_trans_preds['expert_reviews']\n",
        "y_trans_test_ke = y_trans_test['expert_reviews']\n",
        "\n",
        "print(f\"Worker Precision:, {metrics.precision_score(y_trans_test_kw, kmeans_trans_pred_w)*100}\")\n",
        "print(f\"Worker Recall:, {metrics.recall_score(y_trans_test_kw, kmeans_trans_pred_w)*100}\\n\")\n",
        "print(f\"Expert Precision:, {metrics.precision_score(y_trans_test_kw, kmeans_trans_pred_e)*100}\")\n",
        "print(f\"Expert Recall:, {metrics.recall_score(y_trans_test_kw, kmeans_trans_pred_e)*100}\")"
      ],
      "execution_count": 86,
      "outputs": [
        {
          "output_type": "stream",
          "text": [
            "KMeans accuracy score: 10.65%\n",
            "\n",
            "Worker Precision:, 16.45101663585952\n",
            "Worker Recall:, 8.81188118811881\n",
            "\n",
            "Expert Precision:, 62.63661202185792\n",
            "Expert Recall:, 90.79207920792079\n"
          ],
          "name": "stdout"
        }
      ]
    },
    {
      "cell_type": "markdown",
      "metadata": {
        "id": "2g-OklFHCirT"
      },
      "source": [
        "#### Naive Bayes Classifier"
      ]
    },
    {
      "cell_type": "code",
      "metadata": {
        "colab": {
          "base_uri": "https://localhost:8080/"
        },
        "id": "ojUyDCleChz2",
        "outputId": "fda00603-0814-4fc1-bcff-22cc8e80cd67"
      },
      "source": [
        "# train\n",
        "bernNB_clf.fit(x_trans_train, y_trans_train)\n",
        "\n",
        "# predict\n",
        "bernNB_trans_preds = bernNB_clf.predict(x_trans_test)\n",
        "\n",
        "print(f'BernouliNB accuracy score: {accuracy_score(y_trans_test,bernNB_trans_preds)*100}%\\n')\n",
        "\n",
        "# Convert predictions from sparse matrix to dataframe.\n",
        "bernNB_trans_preds = pd.DataFrame.sparse.from_spmatrix(bernNB_trans_preds)\n",
        "bernNB_trans_preds.columns=['worker_reviews', 'expert_reviews']\n",
        "\n",
        "# Split the labels into two. (wokers and experts)\n",
        "bernNB_trans_pred_w = bernNB_trans_preds['worker_reviews']\n",
        "y_trans_test_bern_w = y_trans_test['worker_reviews']\n",
        "bernNB_trans_pred_e = bernNB_trans_preds['expert_reviews']\n",
        "y_trans_test_bern_e = y_trans_test['expert_reviews']\n",
        "\n",
        "print(f\"Worker Precision:, {metrics.precision_score(y_trans_test_bern_w, bernNB_trans_pred_w)*100}\")\n",
        "print(f\"Worker Recall:, {metrics.recall_score(y_trans_test_bern_w, bernNB_trans_pred_w)*100}\\n\")\n",
        "print(f\"Expert Precision:, {metrics.precision_score(y_trans_test_bern_w, bernNB_trans_pred_e)*100}\")\n",
        "print(f\"Expert Recall:, {metrics.recall_score(y_trans_test_bern_w, bernNB_trans_pred_e)*100}\")"
      ],
      "execution_count": 91,
      "outputs": [
        {
          "output_type": "stream",
          "text": [
            "BernouliNB accuracy score: 69.65%\n",
            "\n",
            "Worker Precision:, 65.85365853658537\n",
            "Worker Recall:, 82.87128712871286\n",
            "\n",
            "Expert Precision:, 65.85365853658537\n",
            "Expert Recall:, 82.87128712871286\n"
          ],
          "name": "stdout"
        }
      ]
    }
  ]
}